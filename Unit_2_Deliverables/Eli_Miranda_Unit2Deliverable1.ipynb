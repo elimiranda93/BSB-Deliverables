{
 "cells": [
  {
   "cell_type": "markdown",
   "id": "5ccd68c6-52ef-4032-a38e-23f98492e52b",
   "metadata": {},
   "source": [
    "Author: Eli Miranda\n",
    "\n",
    "Date: 03/24/2024\n",
    "\n",
    "Email: mr.miranda93@yahoo.com \n",
    "\n",
    "Unit 2 Deliverable 1 - Statistics & Public Health 1: Cleaning and EDA"
   ]
  },
  {
   "cell_type": "markdown",
   "id": "0ed428c8-b73f-4721-9da2-c8eb8314f88c",
   "metadata": {},
   "source": [
    "__________________________________________________________________________________________________________________________________________"
   ]
  },
  {
   "cell_type": "markdown",
   "id": "8b3fda77-0665-449d-a668-8970adc28d3d",
   "metadata": {},
   "source": [
    "Requirements: Please submit your Jupyter notebook which should include commented code and markdown cells explaining your methodology and findings."
   ]
  },
  {
   "cell_type": "markdown",
   "id": "e286ef8f-9247-4384-b47c-d335d3b4f54d",
   "metadata": {},
   "source": [
    "## Table of Contents\n",
    "\n",
    "Introduction\n",
    "\n",
    "[Part 1 - Basic Data Wrangling](#part-1)\n",
    "\n",
    "    1) What is the shape of the dataframe?   \n",
    "\n",
    "    2) Convert the 'Date' column to have a datetime format.    \n",
    "\n",
    "    3) Pick two numeric and two categorical columns: What data they are storing? How are they distributed?\n",
    "\n",
    "    4) Are there any columns that contain duplicate information? If so, remove the redundant column.\n",
    "\n",
    "    5) Are there any null values in the dataframe? If so, deal with them appropriately.\n",
    "\n",
    "[Part 2 - Basic EDA](#part-2)\n",
    "\n",
    "    1) Using an appropriate visual, or visuals, explore the relationship between mosquito number and date.\n",
    "\n",
    "[Part 3 - Advanced EDA](#part-3)\n",
    "\n",
    "    1) Using an appropriate visual, explore the relationship between mosquito species and WNV prevalence.\n",
    "    \n",
    "    2) Using an appropriate visual, explore the relationship between the number of mosquitos caught and trap type.\n",
    "    \n",
    "    3) Using an appropriate visual, come up with an additional insight of your choice.\n",
    "\n",
    "Conclusion"
   ]
  },
  {
   "cell_type": "markdown",
   "id": "277fd8d3-0b5a-4c82-b2b5-8e1dd9384ebb",
   "metadata": {},
   "source": [
    "__________________________________________________________________________________________________________________________________________"
   ]
  },
  {
   "cell_type": "markdown",
   "id": "890744b6-82ad-4f29-922c-4623e3abdca5",
   "metadata": {},
   "source": [
    "## Introduction\n",
    "\n",
    "There are public health concerns regarding the spread of West Niel Virus (WNV), which is a disease carried by infected mosquitos that is transmitted to people the mosquito bites. The WNV data we we will be using in this investigation is sourced from Chicago, IL between 2008 & 2019, where a series of traps were place throughout the city to capture mosquito specimens, who were then studied to determine if they are carriers of WVN. Monitoring the distribution of WVN carrier mosquitos accross the traps in the city will yield insights into the spread of WVN in the city. \n"
   ]
  },
  {
   "cell_type": "markdown",
   "id": "36b4d4a0-d98c-4bb5-b17c-0e9eccd4bce0",
   "metadata": {},
   "source": [
    "__________________________________________________________________________________________________________________________________________"
   ]
  },
  {
   "cell_type": "markdown",
   "id": "cb77ebc3-54e9-43e2-be0a-9cdcf1d64ccf",
   "metadata": {},
   "source": [
    "Before diving into addressing any questions regarding WNV, we must first wrangle (clean up) the data, after which, we will conduct Exploraty Data Analysis (EDA)."
   ]
  },
  {
   "cell_type": "code",
   "execution_count": 1,
   "id": "19e6e9de-ac81-4591-8c61-d0727d371897",
   "metadata": {
    "tags": []
   },
   "outputs": [],
   "source": [
    "# Importing data analysis libraries\n",
    "import numpy as np\n",
    "import pandas as pd\n",
    "import matplotlib.pyplot as plt\n",
    "import seaborn as sns\n",
    "from itertools import product"
   ]
  },
  {
   "cell_type": "code",
   "execution_count": 2,
   "id": "64f6545e-14bf-41ab-92d0-2c71e6314d7f",
   "metadata": {
    "tags": []
   },
   "outputs": [],
   "source": [
    "# Initializing dataframe\n",
    "df_mosquito = pd.read_csv('mosquito_data.csv')"
   ]
  },
  {
   "cell_type": "markdown",
   "id": "27d50ade-0c4a-46de-940b-ce617d09a60b",
   "metadata": {},
   "source": [
    "## Part 1 - Basic Data Wrangling <a class=\"anchor\" id=\"part-1\"></a>"
   ]
  },
  {
   "cell_type": "markdown",
   "id": "a555f7c0-36ca-4d56-b23f-32a9c4efa999",
   "metadata": {},
   "source": [
    "### 1. What is the shape of the dataframe?"
   ]
  },
  {
   "cell_type": "code",
   "execution_count": 3,
   "id": "9cc15d37-a94e-40d9-b330-bd599984c366",
   "metadata": {
    "tags": []
   },
   "outputs": [
    {
     "data": {
      "text/plain": [
       "(18495, 13)"
      ]
     },
     "execution_count": 3,
     "metadata": {},
     "output_type": "execute_result"
    }
   ],
   "source": [
    "# Print the shape of the dataframe. \n",
    "df_mosquito.shape"
   ]
  },
  {
   "cell_type": "markdown",
   "id": "46661e0b-75a1-4830-a179-1344207c259a",
   "metadata": {},
   "source": [
    "This dataframe consists of 13 columns and 18495 rows. "
   ]
  },
  {
   "cell_type": "code",
   "execution_count": 4,
   "id": "400ce64e-56aa-464e-8e62-142105555e32",
   "metadata": {},
   "outputs": [
    {
     "data": {
      "text/html": [
       "<div>\n",
       "<style scoped>\n",
       "    .dataframe tbody tr th:only-of-type {\n",
       "        vertical-align: middle;\n",
       "    }\n",
       "\n",
       "    .dataframe tbody tr th {\n",
       "        vertical-align: top;\n",
       "    }\n",
       "\n",
       "    .dataframe thead th {\n",
       "        text-align: right;\n",
       "    }\n",
       "</style>\n",
       "<table border=\"1\" class=\"dataframe\">\n",
       "  <thead>\n",
       "    <tr style=\"text-align: right;\">\n",
       "      <th></th>\n",
       "      <th>Year</th>\n",
       "      <th>Week</th>\n",
       "      <th>Address Block</th>\n",
       "      <th>Block</th>\n",
       "      <th>Trap</th>\n",
       "      <th>Trap type</th>\n",
       "      <th>Date</th>\n",
       "      <th>Mosquito number</th>\n",
       "      <th>Mosquito ID</th>\n",
       "      <th>WNV Present</th>\n",
       "      <th>Species</th>\n",
       "      <th>Lat</th>\n",
       "      <th>Lon</th>\n",
       "    </tr>\n",
       "  </thead>\n",
       "  <tbody>\n",
       "    <tr>\n",
       "      <th>0</th>\n",
       "      <td>2019</td>\n",
       "      <td>39</td>\n",
       "      <td>100XX W OHARE AIRPORT</td>\n",
       "      <td>100</td>\n",
       "      <td>T910</td>\n",
       "      <td>GRAVID</td>\n",
       "      <td>2019-09-26 00:09:00</td>\n",
       "      <td>2</td>\n",
       "      <td>Res</td>\n",
       "      <td>negative</td>\n",
       "      <td>CULEX RESTUANS</td>\n",
       "      <td>NaN</td>\n",
       "      <td>NaN</td>\n",
       "    </tr>\n",
       "    <tr>\n",
       "      <th>1</th>\n",
       "      <td>2019</td>\n",
       "      <td>39</td>\n",
       "      <td>52XX S KOLMAR AVE</td>\n",
       "      <td>52</td>\n",
       "      <td>T114</td>\n",
       "      <td>GRAVID</td>\n",
       "      <td>2019-09-26 00:09:00</td>\n",
       "      <td>1</td>\n",
       "      <td>Res</td>\n",
       "      <td>negative</td>\n",
       "      <td>CULEX RESTUANS</td>\n",
       "      <td>41.798211</td>\n",
       "      <td>-87.736925</td>\n",
       "    </tr>\n",
       "    <tr>\n",
       "      <th>2</th>\n",
       "      <td>2019</td>\n",
       "      <td>39</td>\n",
       "      <td>58XX N WESTERN AVE</td>\n",
       "      <td>58</td>\n",
       "      <td>T028</td>\n",
       "      <td>GRAVID</td>\n",
       "      <td>2019-09-26 00:09:00</td>\n",
       "      <td>2</td>\n",
       "      <td>Res</td>\n",
       "      <td>negative</td>\n",
       "      <td>CULEX RESTUANS</td>\n",
       "      <td>41.987245</td>\n",
       "      <td>-87.689417</td>\n",
       "    </tr>\n",
       "    <tr>\n",
       "      <th>3</th>\n",
       "      <td>2019</td>\n",
       "      <td>39</td>\n",
       "      <td>39XX N SPRINGFIELD AVE</td>\n",
       "      <td>39</td>\n",
       "      <td>T228</td>\n",
       "      <td>GRAVID</td>\n",
       "      <td>2019-09-26 00:09:00</td>\n",
       "      <td>1</td>\n",
       "      <td>Res</td>\n",
       "      <td>negative</td>\n",
       "      <td>CULEX RESTUANS</td>\n",
       "      <td>41.953664</td>\n",
       "      <td>-87.724987</td>\n",
       "    </tr>\n",
       "    <tr>\n",
       "      <th>4</th>\n",
       "      <td>2019</td>\n",
       "      <td>39</td>\n",
       "      <td>131XX S BRANDON AVE</td>\n",
       "      <td>131</td>\n",
       "      <td>T209</td>\n",
       "      <td>GRAVID</td>\n",
       "      <td>2019-09-26 00:09:00</td>\n",
       "      <td>9</td>\n",
       "      <td>Res</td>\n",
       "      <td>negative</td>\n",
       "      <td>CULEX RESTUANS</td>\n",
       "      <td>41.657069</td>\n",
       "      <td>-87.546049</td>\n",
       "    </tr>\n",
       "    <tr>\n",
       "      <th>...</th>\n",
       "      <td>...</td>\n",
       "      <td>...</td>\n",
       "      <td>...</td>\n",
       "      <td>...</td>\n",
       "      <td>...</td>\n",
       "      <td>...</td>\n",
       "      <td>...</td>\n",
       "      <td>...</td>\n",
       "      <td>...</td>\n",
       "      <td>...</td>\n",
       "      <td>...</td>\n",
       "      <td>...</td>\n",
       "      <td>...</td>\n",
       "    </tr>\n",
       "    <tr>\n",
       "      <th>18490</th>\n",
       "      <td>2016</td>\n",
       "      <td>36</td>\n",
       "      <td>3XX W 18TH ST</td>\n",
       "      <td>3</td>\n",
       "      <td>T043</td>\n",
       "      <td>GRAVID</td>\n",
       "      <td>2016-09-09 00:09:00</td>\n",
       "      <td>4</td>\n",
       "      <td>Pip</td>\n",
       "      <td>positive</td>\n",
       "      <td>CULEX PIPIENS</td>\n",
       "      <td>41.857843</td>\n",
       "      <td>-87.635858</td>\n",
       "    </tr>\n",
       "    <tr>\n",
       "      <th>18491</th>\n",
       "      <td>2007</td>\n",
       "      <td>34</td>\n",
       "      <td>46XX N MILWAUKEE AVE</td>\n",
       "      <td>46</td>\n",
       "      <td>T003</td>\n",
       "      <td>GRAVID</td>\n",
       "      <td>2007-08-24 00:08:00</td>\n",
       "      <td>19</td>\n",
       "      <td>Pip</td>\n",
       "      <td>positive</td>\n",
       "      <td>CULEX PIPIENS</td>\n",
       "      <td>41.965376</td>\n",
       "      <td>-87.758403</td>\n",
       "    </tr>\n",
       "    <tr>\n",
       "      <th>18492</th>\n",
       "      <td>2016</td>\n",
       "      <td>30</td>\n",
       "      <td>127XX S DOTY AVE</td>\n",
       "      <td>127</td>\n",
       "      <td>T115</td>\n",
       "      <td>GRAVID</td>\n",
       "      <td>2016-07-27 00:07:00</td>\n",
       "      <td>34</td>\n",
       "      <td>Res</td>\n",
       "      <td>positive</td>\n",
       "      <td>CULEX RESTUANS</td>\n",
       "      <td>41.662395</td>\n",
       "      <td>-87.590176</td>\n",
       "    </tr>\n",
       "    <tr>\n",
       "      <th>18493</th>\n",
       "      <td>2017</td>\n",
       "      <td>33</td>\n",
       "      <td>20XX N DOMINICK ST</td>\n",
       "      <td>20</td>\n",
       "      <td>T240B</td>\n",
       "      <td>SENTINEL</td>\n",
       "      <td>2017-08-17 00:08:00</td>\n",
       "      <td>50</td>\n",
       "      <td>Res</td>\n",
       "      <td>positive</td>\n",
       "      <td>CULEX RESTUANS</td>\n",
       "      <td>41.919197</td>\n",
       "      <td>-87.664758</td>\n",
       "    </tr>\n",
       "    <tr>\n",
       "      <th>18494</th>\n",
       "      <td>2015</td>\n",
       "      <td>33</td>\n",
       "      <td>100XX W OHARE AIRPORT</td>\n",
       "      <td>100</td>\n",
       "      <td>T902</td>\n",
       "      <td>GRAVID</td>\n",
       "      <td>2015-08-20 00:08:00</td>\n",
       "      <td>6</td>\n",
       "      <td>Res</td>\n",
       "      <td>positive</td>\n",
       "      <td>CULEX RESTUANS</td>\n",
       "      <td>NaN</td>\n",
       "      <td>NaN</td>\n",
       "    </tr>\n",
       "  </tbody>\n",
       "</table>\n",
       "<p>18495 rows × 13 columns</p>\n",
       "</div>"
      ],
      "text/plain": [
       "       Year  Week           Address Block  Block   Trap Trap type  \\\n",
       "0      2019    39   100XX W OHARE AIRPORT    100   T910    GRAVID   \n",
       "1      2019    39       52XX S KOLMAR AVE     52   T114    GRAVID   \n",
       "2      2019    39      58XX N WESTERN AVE     58   T028    GRAVID   \n",
       "3      2019    39  39XX N SPRINGFIELD AVE     39   T228    GRAVID   \n",
       "4      2019    39     131XX S BRANDON AVE    131   T209    GRAVID   \n",
       "...     ...   ...                     ...    ...    ...       ...   \n",
       "18490  2016    36           3XX W 18TH ST      3   T043    GRAVID   \n",
       "18491  2007    34    46XX N MILWAUKEE AVE     46   T003    GRAVID   \n",
       "18492  2016    30        127XX S DOTY AVE    127   T115    GRAVID   \n",
       "18493  2017    33      20XX N DOMINICK ST     20  T240B  SENTINEL   \n",
       "18494  2015    33   100XX W OHARE AIRPORT    100   T902    GRAVID   \n",
       "\n",
       "                      Date  Mosquito number Mosquito ID WNV Present  \\\n",
       "0      2019-09-26 00:09:00                2         Res    negative   \n",
       "1      2019-09-26 00:09:00                1         Res    negative   \n",
       "2      2019-09-26 00:09:00                2         Res    negative   \n",
       "3      2019-09-26 00:09:00                1         Res    negative   \n",
       "4      2019-09-26 00:09:00                9         Res    negative   \n",
       "...                    ...              ...         ...         ...   \n",
       "18490  2016-09-09 00:09:00                4         Pip    positive   \n",
       "18491  2007-08-24 00:08:00               19         Pip    positive   \n",
       "18492  2016-07-27 00:07:00               34         Res    positive   \n",
       "18493  2017-08-17 00:08:00               50         Res    positive   \n",
       "18494  2015-08-20 00:08:00                6         Res    positive   \n",
       "\n",
       "              Species        Lat        Lon  \n",
       "0      CULEX RESTUANS        NaN        NaN  \n",
       "1      CULEX RESTUANS  41.798211 -87.736925  \n",
       "2      CULEX RESTUANS  41.987245 -87.689417  \n",
       "3      CULEX RESTUANS  41.953664 -87.724987  \n",
       "4      CULEX RESTUANS  41.657069 -87.546049  \n",
       "...               ...        ...        ...  \n",
       "18490   CULEX PIPIENS  41.857843 -87.635858  \n",
       "18491   CULEX PIPIENS  41.965376 -87.758403  \n",
       "18492  CULEX RESTUANS  41.662395 -87.590176  \n",
       "18493  CULEX RESTUANS  41.919197 -87.664758  \n",
       "18494  CULEX RESTUANS        NaN        NaN  \n",
       "\n",
       "[18495 rows x 13 columns]"
      ]
     },
     "metadata": {},
     "output_type": "display_data"
    }
   ],
   "source": [
    "# Display the DataFrame df_mosquito, first five row & last five rows of the dataframe are printed. \n",
    "display(df_mosquito)"
   ]
  },
  {
   "cell_type": "markdown",
   "id": "ef540e57-e5f0-48e6-bdcc-f2465cef1757",
   "metadata": {},
   "source": [
    "Exploring the header in each column and the values in each row to understand their what they represent. \n",
    "\n",
    "The dataframe shape is also shown. "
   ]
  },
  {
   "cell_type": "markdown",
   "id": "72a02080-9433-46df-a153-1ae1e724798a",
   "metadata": {},
   "source": [
    "\n",
    "### 2. Convert the 'Date' column to have a datetime format."
   ]
  },
  {
   "cell_type": "markdown",
   "id": "4ed5ee06-352f-4204-854d-ead8783c4444",
   "metadata": {},
   "source": [
    "In order to convert the dtype of any column we must first identify what dtype the column(s) currently has. "
   ]
  },
  {
   "cell_type": "code",
   "execution_count": 5,
   "id": "01fb9313-2df0-4b94-b20b-b87e2859b52f",
   "metadata": {},
   "outputs": [
    {
     "name": "stdout",
     "output_type": "stream",
     "text": [
      "<class 'pandas.core.frame.DataFrame'>\n",
      "RangeIndex: 18495 entries, 0 to 18494\n",
      "Data columns (total 13 columns):\n",
      " #   Column           Non-Null Count  Dtype  \n",
      "---  ------           --------------  -----  \n",
      " 0   Year             18495 non-null  int64  \n",
      " 1   Week             18495 non-null  int64  \n",
      " 2   Address Block    18495 non-null  object \n",
      " 3   Block            18495 non-null  int64  \n",
      " 4   Trap             18495 non-null  object \n",
      " 5   Trap type        18495 non-null  object \n",
      " 6   Date             18495 non-null  object \n",
      " 7   Mosquito number  18495 non-null  int64  \n",
      " 8   Mosquito ID      18495 non-null  object \n",
      " 9   WNV Present      18495 non-null  object \n",
      " 10  Species          18495 non-null  object \n",
      " 11  Lat              15571 non-null  float64\n",
      " 12  Lon              15571 non-null  float64\n",
      "dtypes: float64(2), int64(4), object(7)\n",
      "memory usage: 1.8+ MB\n"
     ]
    }
   ],
   "source": [
    "# Display information about the DataFrame df_mosquito\n",
    "df_mosquito.info()"
   ]
  },
  {
   "cell_type": "markdown",
   "id": "36d7132d-a1ab-4437-934c-cf170400393e",
   "metadata": {},
   "source": [
    "Based on the df information displayed above we can see that the 'Date' column has the object dtype."
   ]
  },
  {
   "cell_type": "code",
   "execution_count": 6,
   "id": "e895ad2e-d7c0-4e54-a937-6f4d04df032b",
   "metadata": {},
   "outputs": [],
   "source": [
    "# Convert column from object dtype to datetime dtype. \n",
    "df_mosquito['Date'] = pd.to_datetime(df_mosquito['Date'])"
   ]
  },
  {
   "cell_type": "markdown",
   "id": "8f1045c2-62a1-43c8-8b05-dffd487c010f",
   "metadata": {},
   "source": [
    "Now we have converted the dtype for the 'Date' column to datetime. "
   ]
  },
  {
   "cell_type": "code",
   "execution_count": 7,
   "id": "3c3b3fff-f064-420e-a618-d2424df5b294",
   "metadata": {},
   "outputs": [
    {
     "name": "stdout",
     "output_type": "stream",
     "text": [
      "<class 'pandas.core.frame.DataFrame'>\n",
      "RangeIndex: 18495 entries, 0 to 18494\n",
      "Data columns (total 13 columns):\n",
      " #   Column           Non-Null Count  Dtype         \n",
      "---  ------           --------------  -----         \n",
      " 0   Year             18495 non-null  int64         \n",
      " 1   Week             18495 non-null  int64         \n",
      " 2   Address Block    18495 non-null  object        \n",
      " 3   Block            18495 non-null  int64         \n",
      " 4   Trap             18495 non-null  object        \n",
      " 5   Trap type        18495 non-null  object        \n",
      " 6   Date             18495 non-null  datetime64[ns]\n",
      " 7   Mosquito number  18495 non-null  int64         \n",
      " 8   Mosquito ID      18495 non-null  object        \n",
      " 9   WNV Present      18495 non-null  object        \n",
      " 10  Species          18495 non-null  object        \n",
      " 11  Lat              15571 non-null  float64       \n",
      " 12  Lon              15571 non-null  float64       \n",
      "dtypes: datetime64[ns](1), float64(2), int64(4), object(6)\n",
      "memory usage: 1.8+ MB\n"
     ]
    }
   ],
   "source": [
    "# Display information about the DataFrame df_mosquito \n",
    "df_mosquito.info()"
   ]
  },
  {
   "cell_type": "markdown",
   "id": "3af8aa53-e82b-4527-86a5-f97ed4af3a86",
   "metadata": {},
   "source": [
    "By reviewing the df information again we can do sense check to confirm the the 'Date' column was changed from the object dtype to the<br> \n",
    "to datetime dtype format. "
   ]
  },
  {
   "cell_type": "markdown",
   "id": "b70fba45-1359-4dfd-87c4-fa49fe96e1dd",
   "metadata": {},
   "source": [
    "### 3. Pick two numeric and two categorical columns: What data they are storing? How are they distributed?"
   ]
  },
  {
   "cell_type": "code",
   "execution_count": 8,
   "id": "95a5a1eb-3c41-44a7-a23a-2dfea1a054b2",
   "metadata": {},
   "outputs": [
    {
     "name": "stdout",
     "output_type": "stream",
     "text": [
      "<class 'pandas.core.frame.DataFrame'>\n",
      "RangeIndex: 18495 entries, 0 to 18494\n",
      "Data columns (total 13 columns):\n",
      " #   Column           Non-Null Count  Dtype         \n",
      "---  ------           --------------  -----         \n",
      " 0   Year             18495 non-null  int64         \n",
      " 1   Week             18495 non-null  int64         \n",
      " 2   Address Block    18495 non-null  object        \n",
      " 3   Block            18495 non-null  int64         \n",
      " 4   Trap             18495 non-null  object        \n",
      " 5   Trap type        18495 non-null  object        \n",
      " 6   Date             18495 non-null  datetime64[ns]\n",
      " 7   Mosquito number  18495 non-null  int64         \n",
      " 8   Mosquito ID      18495 non-null  object        \n",
      " 9   WNV Present      18495 non-null  object        \n",
      " 10  Species          18495 non-null  object        \n",
      " 11  Lat              15571 non-null  float64       \n",
      " 12  Lon              15571 non-null  float64       \n",
      "dtypes: datetime64[ns](1), float64(2), int64(4), object(6)\n",
      "memory usage: 1.8+ MB\n"
     ]
    }
   ],
   "source": [
    "# Print info for all columns to determine dtypes.\n",
    "df_mosquito.info()"
   ]
  },
  {
   "cell_type": "markdown",
   "id": "d305f3ca-0a67-4db1-a784-e0fecdd08b7a",
   "metadata": {},
   "source": [
    "Based on the information displayed above we can determine the follwowing: \n",
    "\n",
    "Two numeric columns are 'Week' and 'Mosquito number'. Both of these columns are storing int64 dtype.\n",
    "\n",
    "Two categorical columns are 'Trap type' and 'Species'. Both of these columns are storing object dtype."
   ]
  },
  {
   "cell_type": "code",
   "execution_count": 9,
   "id": "ca3dbf37-14b6-48b4-a22d-eb11c57d40c4",
   "metadata": {},
   "outputs": [
    {
     "data": {
      "text/html": [
       "<div>\n",
       "<style scoped>\n",
       "    .dataframe tbody tr th:only-of-type {\n",
       "        vertical-align: middle;\n",
       "    }\n",
       "\n",
       "    .dataframe tbody tr th {\n",
       "        vertical-align: top;\n",
       "    }\n",
       "\n",
       "    .dataframe thead th {\n",
       "        text-align: right;\n",
       "    }\n",
       "</style>\n",
       "<table border=\"1\" class=\"dataframe\">\n",
       "  <thead>\n",
       "    <tr style=\"text-align: right;\">\n",
       "      <th></th>\n",
       "      <th>Year</th>\n",
       "      <th>Week</th>\n",
       "      <th>Block</th>\n",
       "      <th>Date</th>\n",
       "      <th>Mosquito number</th>\n",
       "      <th>Lat</th>\n",
       "      <th>Lon</th>\n",
       "    </tr>\n",
       "  </thead>\n",
       "  <tbody>\n",
       "    <tr>\n",
       "      <th>count</th>\n",
       "      <td>18495.000000</td>\n",
       "      <td>18495.000000</td>\n",
       "      <td>18495.000000</td>\n",
       "      <td>18495</td>\n",
       "      <td>18495.000000</td>\n",
       "      <td>15571.000000</td>\n",
       "      <td>15571.000000</td>\n",
       "    </tr>\n",
       "    <tr>\n",
       "      <th>mean</th>\n",
       "      <td>2012.905812</td>\n",
       "      <td>31.004001</td>\n",
       "      <td>54.314788</td>\n",
       "      <td>2013-06-30 17:40:04.100135424</td>\n",
       "      <td>10.879913</td>\n",
       "      <td>41.839963</td>\n",
       "      <td>-87.691642</td>\n",
       "    </tr>\n",
       "    <tr>\n",
       "      <th>min</th>\n",
       "      <td>2007.000000</td>\n",
       "      <td>20.000000</td>\n",
       "      <td>1.000000</td>\n",
       "      <td>2007-05-29 00:05:00</td>\n",
       "      <td>1.000000</td>\n",
       "      <td>41.644720</td>\n",
       "      <td>-87.854473</td>\n",
       "    </tr>\n",
       "    <tr>\n",
       "      <th>25%</th>\n",
       "      <td>2010.000000</td>\n",
       "      <td>28.000000</td>\n",
       "      <td>22.000000</td>\n",
       "      <td>2010-07-16 00:07:00</td>\n",
       "      <td>2.000000</td>\n",
       "      <td>41.742670</td>\n",
       "      <td>-87.747459</td>\n",
       "    </tr>\n",
       "    <tr>\n",
       "      <th>50%</th>\n",
       "      <td>2013.000000</td>\n",
       "      <td>31.000000</td>\n",
       "      <td>51.000000</td>\n",
       "      <td>2013-08-22 00:08:00</td>\n",
       "      <td>5.000000</td>\n",
       "      <td>41.845715</td>\n",
       "      <td>-87.691698</td>\n",
       "    </tr>\n",
       "    <tr>\n",
       "      <th>75%</th>\n",
       "      <td>2016.000000</td>\n",
       "      <td>34.000000</td>\n",
       "      <td>89.000000</td>\n",
       "      <td>2016-08-11 00:08:00</td>\n",
       "      <td>14.000000</td>\n",
       "      <td>41.945961</td>\n",
       "      <td>-87.637873</td>\n",
       "    </tr>\n",
       "    <tr>\n",
       "      <th>max</th>\n",
       "      <td>2019.000000</td>\n",
       "      <td>40.000000</td>\n",
       "      <td>132.000000</td>\n",
       "      <td>2019-09-26 00:09:00</td>\n",
       "      <td>50.000000</td>\n",
       "      <td>42.017801</td>\n",
       "      <td>-87.531051</td>\n",
       "    </tr>\n",
       "    <tr>\n",
       "      <th>std</th>\n",
       "      <td>3.725857</td>\n",
       "      <td>4.332020</td>\n",
       "      <td>36.712796</td>\n",
       "      <td>NaN</td>\n",
       "      <td>13.475066</td>\n",
       "      <td>0.111374</td>\n",
       "      <td>0.076545</td>\n",
       "    </tr>\n",
       "  </tbody>\n",
       "</table>\n",
       "</div>"
      ],
      "text/plain": [
       "               Year          Week         Block  \\\n",
       "count  18495.000000  18495.000000  18495.000000   \n",
       "mean    2012.905812     31.004001     54.314788   \n",
       "min     2007.000000     20.000000      1.000000   \n",
       "25%     2010.000000     28.000000     22.000000   \n",
       "50%     2013.000000     31.000000     51.000000   \n",
       "75%     2016.000000     34.000000     89.000000   \n",
       "max     2019.000000     40.000000    132.000000   \n",
       "std        3.725857      4.332020     36.712796   \n",
       "\n",
       "                                Date  Mosquito number           Lat  \\\n",
       "count                          18495     18495.000000  15571.000000   \n",
       "mean   2013-06-30 17:40:04.100135424        10.879913     41.839963   \n",
       "min              2007-05-29 00:05:00         1.000000     41.644720   \n",
       "25%              2010-07-16 00:07:00         2.000000     41.742670   \n",
       "50%              2013-08-22 00:08:00         5.000000     41.845715   \n",
       "75%              2016-08-11 00:08:00        14.000000     41.945961   \n",
       "max              2019-09-26 00:09:00        50.000000     42.017801   \n",
       "std                              NaN        13.475066      0.111374   \n",
       "\n",
       "                Lon  \n",
       "count  15571.000000  \n",
       "mean     -87.691642  \n",
       "min      -87.854473  \n",
       "25%      -87.747459  \n",
       "50%      -87.691698  \n",
       "75%      -87.637873  \n",
       "max      -87.531051  \n",
       "std        0.076545  "
      ]
     },
     "execution_count": 9,
     "metadata": {},
     "output_type": "execute_result"
    }
   ],
   "source": [
    "# Print the desctiption of the numereical columns in the dataframe. \n",
    "df_mosquito.describe()"
   ]
  },
  {
   "cell_type": "markdown",
   "id": "c19b8765-b192-4a26-b726-984d3971ee2f",
   "metadata": {},
   "source": [
    "Here we see the summary statisics for all the numerical columns in the dataframe, including 'Week' and 'Mosquito number'.\n",
    "\n",
    "Week: We see that the minimum amount of weeks before WNV tests were performed is 20. This is due to the onset of Summer, where mosquito presence is significant enough to test for WNV.<br> \n",
    "We also see the maximum amount of week of 40, which indidcates the onset of Fall, where mosquito presence will dip and no longer significant enough to be measureable.<br>\n",
    "We see the bulk of the weeks that WNV was tested for is between weeks 28 and 34 (based on the 25%-75%), which are the peak Summer months, during which mosquito presence is expected to be at its highest. The mean is week 31.004001, which is practically the same as the median of 31. This means the distribution does not have any significant skew to the left or right. \n",
    "\n",
    "Mosquito number: Represents the number of mosquitos per traps. The minimum amount of mosquitos found in a trap is 1, which is an indicator that no traps were found to be empty.<br>\n",
    "The maximum amount of mosquitos in a trap is 50. However, this is an artifical maximum because when the number of mosquitoes exceed 50, they are split into another record (another row in the dataset).<br>\n",
    "The mean for this column is 10.879913, which is a little over double the median of 5, which is an indicator that this columns distribution is right-skewed.<br> \n",
    "The artificial maximum may have influnced this right-skew. We will explore this further later on.\n",
    "\n",
    "Next we will plot the 'Week' and 'Mosquito number' columns as visual confirmation of the summary statisics above. "
   ]
  },
  {
   "cell_type": "code",
   "execution_count": 10,
   "id": "f805b1b3-cf93-49f1-a92e-b20de0178c5e",
   "metadata": {},
   "outputs": [
    {
     "data": {
      "image/png": "[encoded data removed]",
      "text/plain": [
       "<Figure size 640x480 with 1 Axes>"
      ]
     },
     "metadata": {},
     "output_type": "display_data"
    }
   ],
   "source": [
    "# Create a figure and subplot for the histogram\n",
    "plt.plot()\n",
    "\n",
    "# Plot a histogram of the \"Week\" column with 10 bins\n",
    "plt.hist(df_mosquito['Week'], bins=10)\n",
    "\n",
    "# Add vertical lines for the mean and median\n",
    "plt.axvline(df_mosquito['Week'].mean(), color='lightcoral', label='mean')\n",
    "plt.axvline(df_mosquito['Week'].median(), color='lightcoral', linestyle='--', label='median')\n",
    "\n",
    "# Set the title, x-axis label, and y-axis label\n",
    "plt.xlabel('Week #')\n",
    "plt.ylabel('Frequency')\n",
    "plt.title('Week # histogram')\n",
    "\n",
    "plt.show()"
   ]
  },
  {
   "cell_type": "markdown",
   "id": "4fab29b3-f520-4a71-81b5-5d29549a8f7a",
   "metadata": {},
   "source": [
    "The mean and median are almost overlapping entirely on week 31, just like we see in the description above.<br> \n",
    "However, upon visual inspection we do see a slight left-skew distribution. As mentioned prior, the summer months or weeks 28-34 is<br>\n",
    "we would expect to see the highest amount of mosquitos, which is confirmed by the three highest frequency bars in the plot above. The<br>\n",
    "frequencies are 2500, 3000 and ~3500."
   ]
  },
  {
   "cell_type": "code",
   "execution_count": 11,
   "id": "ecef27bf-6c0c-4358-97f7-79d297ba57d2",
   "metadata": {},
   "outputs": [
    {
     "data": {
      "image/png": "[encoded data removed]",
      "text/plain": [
       "<Figure size 1200x600 with 1 Axes>"
      ]
     },
     "metadata": {},
     "output_type": "display_data"
    }
   ],
   "source": [
    "# Get the sorted value counts of \"Mosquito number\" and sort by index\n",
    "sorted_df = df_mosquito['Mosquito number'].value_counts().sort_index() \n",
    "\n",
    "# Set the width to 12 inches and height to 6 inches\n",
    "plt.figure(figsize=(12, 6))  \n",
    "\n",
    "# Create a bar plot of the sorted value counts\n",
    "plt.bar(sorted_df.index, sorted_df.values) #\n",
    "\n",
    "# Add vertical lines for the mean and median\n",
    "plt.axvline(df_mosquito['Mosquito number'].mean(), color='lightcoral', label='mean')\n",
    "plt.axvline(df_mosquito['Mosquito number'].median(), color='lightcoral', linestyle='--', label='median')\n",
    "\n",
    "# Set the title, x-axis label, y-axis label, and x-axis ticks\n",
    "plt.title('Frequency of the Number of Mosquitos Per Trap')\n",
    "plt.xlabel('Number of Mosquitos Per Trap')\n",
    "plt.ylabel('Frequency')\n",
    "plt.xticks(sorted_df.index)\n",
    "\n",
    "# Makes sure there is no overlap in plots\n",
    "plt.tight_layout()\n",
    "\n",
    "plt.legend()\n",
    "plt.show()"
   ]
  },
  {
   "cell_type": "markdown",
   "id": "67949e69-6642-4b28-ae94-966fcbad578d",
   "metadata": {},
   "source": [
    "As expected, we see a right-skewed distribution, which is supported by our mean being higher than our median.<br> \n",
    "Additionally, we can see that the frequnecy of traps containing one, two, three, four and five mosquitos is what pulled the median to the left.<br>\n",
    "Moreover, traps with 50 mosquitos appears to be an outlier, which is expected since their frequency is artificially inflated by the act of splitting<br>\n",
    "the count of mosquitos between 2 or more records (rows in the dataset) when their count per trap exceeds 50. \n",
    "\n",
    "Next we will explore the two categorical columns are 'Trap type' and 'Species'. "
   ]
  },
  {
   "cell_type": "code",
   "execution_count": 12,
   "id": "62a5eac0-6f59-4811-b833-95f374eb3d33",
   "metadata": {},
   "outputs": [
    {
     "data": {
      "text/plain": [
       "Trap type\n",
       "CDC          28\n",
       "GRAVID      165\n",
       "OVI           1\n",
       "SENTINEL     12\n",
       "Name: Trap, dtype: int64"
      ]
     },
     "execution_count": 12,
     "metadata": {},
     "output_type": "execute_result"
    }
   ],
   "source": [
    "# Count the number of unique values in the 'Trap' column for each 'Trap type' group\n",
    "df_mosquito.groupby('Trap type')['Trap'].nunique()"
   ]
  },
  {
   "cell_type": "markdown",
   "id": "bfb541d5-835c-418d-a96e-3308274516cb",
   "metadata": {},
   "source": [
    "Here we see the count or distrubution of each Trap type. "
   ]
  },
  {
   "cell_type": "code",
   "execution_count": 13,
   "id": "ae72e027-3a29-4b47-9571-54b94d598fcb",
   "metadata": {},
   "outputs": [
    {
     "data": {
      "image/png": "[encoded data removed]",
      "text/plain": [
       "<Figure size 640x480 with 1 Axes>"
      ]
     },
     "metadata": {},
     "output_type": "display_data"
    }
   ],
   "source": [
    "# Group by 'Trap type' and count unique 'Trap' values\n",
    "trap_counts = df_mosquito.groupby('Trap type')['Trap'].nunique()\n",
    "\n",
    "# Plotting the bar chart\n",
    "trap_counts.plot(kind='bar', color='darkgreen')\n",
    "plt.xlabel('Trap Type')\n",
    "plt.ylabel('Unique Trap Count')\n",
    "plt.title('Count of Unique Traps by Trap Type')\n",
    "plt.xticks(rotation=45, ha='right')  # Rotate x-axis labels for better readability\n",
    "\n",
    "plt.tight_layout()  # Ensure no overlap in plots\n",
    "\n",
    "plt.show()"
   ]
  },
  {
   "cell_type": "markdown",
   "id": "44662d7b-5c45-48f3-bfd5-b50b80e3d8a8",
   "metadata": {},
   "source": [
    "Here we see the count or distrubution of each Trap type as visual. As we see in the numerical table, the <br>\n",
    "GRAVID Trap type is the most common trap used (165) in this study. CDC (28) is second most used, followed up SENTINEL (12) and <br>\n",
    "then there was only one OVI tyrap used for this study. "
   ]
  },
  {
   "cell_type": "code",
   "execution_count": 14,
   "id": "c5a0c6c3-04a1-443d-95b4-3acf0bb66f4f",
   "metadata": {},
   "outputs": [
    {
     "data": {
      "text/plain": [
       "Trap type\n",
       "GRAVID      17741\n",
       "CDC           544\n",
       "SENTINEL      209\n",
       "OVI             1\n",
       "Name: count, dtype: int64"
      ]
     },
     "execution_count": 14,
     "metadata": {},
     "output_type": "execute_result"
    }
   ],
   "source": [
    "# Group the data by 'Trap type' and count the number of unique values in the 'Mosquito number' column within each group\n",
    "df_mosquito['Trap type'].value_counts()"
   ]
  },
  {
   "cell_type": "markdown",
   "id": "50cf2c3c-c0e1-4572-a685-4feb0907114a",
   "metadata": {},
   "source": [
    "Here we see the counts or distrubution of the number of mosquitos caught in each Trap type. \n"
   ]
  },
  {
   "cell_type": "code",
   "execution_count": 15,
   "id": "c5e45bb4-935b-4c3b-a335-2f85f6564a74",
   "metadata": {},
   "outputs": [
    {
     "data": {
      "text/plain": [
       "Species\n",
       "CULEX RESTUANS      11866\n",
       "CULEX PIPIENS        5486\n",
       "CULEX TERRITANS       917\n",
       "CULEX SALINARIUS      226\n",
       "Name: count, dtype: int64"
      ]
     },
     "execution_count": 15,
     "metadata": {},
     "output_type": "execute_result"
    }
   ],
   "source": [
    "# Group the data by 'Species' and count the number of unique values in the 'Mosquito number' column within each group\n",
    "df_mosquito['Species'].value_counts()"
   ]
  },
  {
   "cell_type": "markdown",
   "id": "7a8a0ecb-57a9-4d2b-aa8f-4385a1616bd6",
   "metadata": {},
   "source": [
    "Here we see the counts or distrubution of the number of mosquitos for each species. \n",
    "\n",
    "Next we will plot these distrubution of the number of mosquitos for each species as <br>\n",
    "well as for each trap type."
   ]
  },
  {
   "cell_type": "code",
   "execution_count": 16,
   "id": "eea2ebfa-70b5-413a-a5ce-d3a2fd75f93c",
   "metadata": {},
   "outputs": [
    {
     "data": {
      "image/png": "[encoded data removed]",
      "text/plain": [
       "<Figure size 640x480 with 2 Axes>"
      ]
     },
     "metadata": {},
     "output_type": "display_data"
    }
   ],
   "source": [
    "# Create a figure with two subplots arranged in a 1x2 grid (one row, two columns)\n",
    "plt.subplots(1, 2)  #\n",
    "\n",
    "# Left subplot (Slot 1 in the 1x2 grid)\n",
    "plt.subplot(1, 2, 1)  \n",
    "df_mosquito['Trap type'].value_counts().plot(kind='bar') # Plot a bar plot of Trap type counts\n",
    "plt.xlabel('Trap type')\n",
    "plt.ylabel('Frequency')\n",
    "plt.title('Count of Traps by Trap type')\n",
    "\n",
    "# Right subplot (Slot 2 in the 1x2 grid)\n",
    "plt.subplot(1, 2, 2)  \n",
    "df_mosquito['Species'].value_counts().plot(kind='bar') # Plot a bar plot of Mosquito species counts\n",
    "plt.title('Count of Mosquitos by Species')\n",
    "\n",
    "# Makes sure there is no overlap in plots\n",
    "plt.tight_layout()  \n",
    "plt.show()"
   ]
  },
  {
   "cell_type": "markdown",
   "id": "cb3a188a-534d-4d44-a213-e7f2a7d7e2ce",
   "metadata": {},
   "source": [
    "Based on the bar plots above we can see both columns are similar in that they each have four unique values on the x-axis. \n",
    "\n",
    "Trap type: Among the four 'Trap types', GRAVID appears to have caught the most mosquitos (17,441). However, this is likely <br>\n",
    "due to this Trap type being the most used in this study. As expected, the CDC (544), SENTINEL (209) and OVI (1) Trap types <br>\n",
    "caught less mosquitos than the GRAVID Trap type. Moveover, the amount of mosquitos caught in CDC, SENTINEL and OVI follows <br>\n",
    "the other order of the count of each Trap type. \n",
    "\n",
    "Species: Among the four 'Species', CULEX RESTUANS appear to be the most prevalent mosquito caught in this study (118660). <br>\n",
    "We see CULEX PIPIENS at 5486, CULEX TERRITANS at 917 and CULEX SALINARIUS at 226. We will explore the relationship between <br>\n",
    "'Trap type' and 'Species' later on. "
   ]
  },
  {
   "cell_type": "markdown",
   "id": "2a59d773-a002-4438-bd45-0d663f35669f",
   "metadata": {
    "tags": []
   },
   "source": [
    "### 4. Are there any columns that contain duplicate information? If so, remove the redundant columns.\n"
   ]
  },
  {
   "cell_type": "code",
   "execution_count": 17,
   "id": "84618518-772c-4585-aed3-1e1ec33add5f",
   "metadata": {},
   "outputs": [
    {
     "data": {
      "text/plain": [
       "Year               False\n",
       "Week               False\n",
       "Address Block      False\n",
       "Block              False\n",
       "Trap               False\n",
       "Trap type          False\n",
       "Date               False\n",
       "Mosquito number    False\n",
       "Mosquito ID        False\n",
       "WNV Present        False\n",
       "Species            False\n",
       "Lat                False\n",
       "Lon                False\n",
       "dtype: bool"
      ]
     },
     "execution_count": 17,
     "metadata": {},
     "output_type": "execute_result"
    }
   ],
   "source": [
    "# Using transpose to swap columns with rows and then apply .duplicated() function to see if there is any duplicate data. \n",
    "df_mosquito.T.duplicated()"
   ]
  },
  {
   "cell_type": "markdown",
   "id": "b0280011-71b5-4a2c-8798-78d52dcddb6d",
   "metadata": {},
   "source": [
    "No duplicate data could be found based on the function above. \n",
    "\n",
    "So we will do visual inspection of the columns and determine if any columns have may be redunant."
   ]
  },
  {
   "cell_type": "code",
   "execution_count": 18,
   "id": "22ce15b3-b333-4e8f-a9f7-b41342f5fdfa",
   "metadata": {},
   "outputs": [
    {
     "data": {
      "text/html": [
       "<div>\n",
       "<style scoped>\n",
       "    .dataframe tbody tr th:only-of-type {\n",
       "        vertical-align: middle;\n",
       "    }\n",
       "\n",
       "    .dataframe tbody tr th {\n",
       "        vertical-align: top;\n",
       "    }\n",
       "\n",
       "    .dataframe thead th {\n",
       "        text-align: right;\n",
       "    }\n",
       "</style>\n",
       "<table border=\"1\" class=\"dataframe\">\n",
       "  <thead>\n",
       "    <tr style=\"text-align: right;\">\n",
       "      <th></th>\n",
       "      <th>Year</th>\n",
       "      <th>Week</th>\n",
       "      <th>Address Block</th>\n",
       "      <th>Block</th>\n",
       "      <th>Trap</th>\n",
       "      <th>Trap type</th>\n",
       "      <th>Date</th>\n",
       "      <th>Mosquito number</th>\n",
       "      <th>Mosquito ID</th>\n",
       "      <th>WNV Present</th>\n",
       "      <th>Species</th>\n",
       "      <th>Lat</th>\n",
       "      <th>Lon</th>\n",
       "    </tr>\n",
       "  </thead>\n",
       "  <tbody>\n",
       "    <tr>\n",
       "      <th>0</th>\n",
       "      <td>2019</td>\n",
       "      <td>39</td>\n",
       "      <td>100XX W OHARE AIRPORT</td>\n",
       "      <td>100</td>\n",
       "      <td>T910</td>\n",
       "      <td>GRAVID</td>\n",
       "      <td>2019-09-26 00:09:00</td>\n",
       "      <td>2</td>\n",
       "      <td>Res</td>\n",
       "      <td>negative</td>\n",
       "      <td>CULEX RESTUANS</td>\n",
       "      <td>NaN</td>\n",
       "      <td>NaN</td>\n",
       "    </tr>\n",
       "    <tr>\n",
       "      <th>1</th>\n",
       "      <td>2019</td>\n",
       "      <td>39</td>\n",
       "      <td>52XX S KOLMAR AVE</td>\n",
       "      <td>52</td>\n",
       "      <td>T114</td>\n",
       "      <td>GRAVID</td>\n",
       "      <td>2019-09-26 00:09:00</td>\n",
       "      <td>1</td>\n",
       "      <td>Res</td>\n",
       "      <td>negative</td>\n",
       "      <td>CULEX RESTUANS</td>\n",
       "      <td>41.798211</td>\n",
       "      <td>-87.736925</td>\n",
       "    </tr>\n",
       "    <tr>\n",
       "      <th>2</th>\n",
       "      <td>2019</td>\n",
       "      <td>39</td>\n",
       "      <td>58XX N WESTERN AVE</td>\n",
       "      <td>58</td>\n",
       "      <td>T028</td>\n",
       "      <td>GRAVID</td>\n",
       "      <td>2019-09-26 00:09:00</td>\n",
       "      <td>2</td>\n",
       "      <td>Res</td>\n",
       "      <td>negative</td>\n",
       "      <td>CULEX RESTUANS</td>\n",
       "      <td>41.987245</td>\n",
       "      <td>-87.689417</td>\n",
       "    </tr>\n",
       "    <tr>\n",
       "      <th>3</th>\n",
       "      <td>2019</td>\n",
       "      <td>39</td>\n",
       "      <td>39XX N SPRINGFIELD AVE</td>\n",
       "      <td>39</td>\n",
       "      <td>T228</td>\n",
       "      <td>GRAVID</td>\n",
       "      <td>2019-09-26 00:09:00</td>\n",
       "      <td>1</td>\n",
       "      <td>Res</td>\n",
       "      <td>negative</td>\n",
       "      <td>CULEX RESTUANS</td>\n",
       "      <td>41.953664</td>\n",
       "      <td>-87.724987</td>\n",
       "    </tr>\n",
       "    <tr>\n",
       "      <th>4</th>\n",
       "      <td>2019</td>\n",
       "      <td>39</td>\n",
       "      <td>131XX S BRANDON AVE</td>\n",
       "      <td>131</td>\n",
       "      <td>T209</td>\n",
       "      <td>GRAVID</td>\n",
       "      <td>2019-09-26 00:09:00</td>\n",
       "      <td>9</td>\n",
       "      <td>Res</td>\n",
       "      <td>negative</td>\n",
       "      <td>CULEX RESTUANS</td>\n",
       "      <td>41.657069</td>\n",
       "      <td>-87.546049</td>\n",
       "    </tr>\n",
       "    <tr>\n",
       "      <th>...</th>\n",
       "      <td>...</td>\n",
       "      <td>...</td>\n",
       "      <td>...</td>\n",
       "      <td>...</td>\n",
       "      <td>...</td>\n",
       "      <td>...</td>\n",
       "      <td>...</td>\n",
       "      <td>...</td>\n",
       "      <td>...</td>\n",
       "      <td>...</td>\n",
       "      <td>...</td>\n",
       "      <td>...</td>\n",
       "      <td>...</td>\n",
       "    </tr>\n",
       "    <tr>\n",
       "      <th>18490</th>\n",
       "      <td>2016</td>\n",
       "      <td>36</td>\n",
       "      <td>3XX W 18TH ST</td>\n",
       "      <td>3</td>\n",
       "      <td>T043</td>\n",
       "      <td>GRAVID</td>\n",
       "      <td>2016-09-09 00:09:00</td>\n",
       "      <td>4</td>\n",
       "      <td>Pip</td>\n",
       "      <td>positive</td>\n",
       "      <td>CULEX PIPIENS</td>\n",
       "      <td>41.857843</td>\n",
       "      <td>-87.635858</td>\n",
       "    </tr>\n",
       "    <tr>\n",
       "      <th>18491</th>\n",
       "      <td>2007</td>\n",
       "      <td>34</td>\n",
       "      <td>46XX N MILWAUKEE AVE</td>\n",
       "      <td>46</td>\n",
       "      <td>T003</td>\n",
       "      <td>GRAVID</td>\n",
       "      <td>2007-08-24 00:08:00</td>\n",
       "      <td>19</td>\n",
       "      <td>Pip</td>\n",
       "      <td>positive</td>\n",
       "      <td>CULEX PIPIENS</td>\n",
       "      <td>41.965376</td>\n",
       "      <td>-87.758403</td>\n",
       "    </tr>\n",
       "    <tr>\n",
       "      <th>18492</th>\n",
       "      <td>2016</td>\n",
       "      <td>30</td>\n",
       "      <td>127XX S DOTY AVE</td>\n",
       "      <td>127</td>\n",
       "      <td>T115</td>\n",
       "      <td>GRAVID</td>\n",
       "      <td>2016-07-27 00:07:00</td>\n",
       "      <td>34</td>\n",
       "      <td>Res</td>\n",
       "      <td>positive</td>\n",
       "      <td>CULEX RESTUANS</td>\n",
       "      <td>41.662395</td>\n",
       "      <td>-87.590176</td>\n",
       "    </tr>\n",
       "    <tr>\n",
       "      <th>18493</th>\n",
       "      <td>2017</td>\n",
       "      <td>33</td>\n",
       "      <td>20XX N DOMINICK ST</td>\n",
       "      <td>20</td>\n",
       "      <td>T240B</td>\n",
       "      <td>SENTINEL</td>\n",
       "      <td>2017-08-17 00:08:00</td>\n",
       "      <td>50</td>\n",
       "      <td>Res</td>\n",
       "      <td>positive</td>\n",
       "      <td>CULEX RESTUANS</td>\n",
       "      <td>41.919197</td>\n",
       "      <td>-87.664758</td>\n",
       "    </tr>\n",
       "    <tr>\n",
       "      <th>18494</th>\n",
       "      <td>2015</td>\n",
       "      <td>33</td>\n",
       "      <td>100XX W OHARE AIRPORT</td>\n",
       "      <td>100</td>\n",
       "      <td>T902</td>\n",
       "      <td>GRAVID</td>\n",
       "      <td>2015-08-20 00:08:00</td>\n",
       "      <td>6</td>\n",
       "      <td>Res</td>\n",
       "      <td>positive</td>\n",
       "      <td>CULEX RESTUANS</td>\n",
       "      <td>NaN</td>\n",
       "      <td>NaN</td>\n",
       "    </tr>\n",
       "  </tbody>\n",
       "</table>\n",
       "<p>18495 rows × 13 columns</p>\n",
       "</div>"
      ],
      "text/plain": [
       "       Year  Week           Address Block  Block   Trap Trap type  \\\n",
       "0      2019    39   100XX W OHARE AIRPORT    100   T910    GRAVID   \n",
       "1      2019    39       52XX S KOLMAR AVE     52   T114    GRAVID   \n",
       "2      2019    39      58XX N WESTERN AVE     58   T028    GRAVID   \n",
       "3      2019    39  39XX N SPRINGFIELD AVE     39   T228    GRAVID   \n",
       "4      2019    39     131XX S BRANDON AVE    131   T209    GRAVID   \n",
       "...     ...   ...                     ...    ...    ...       ...   \n",
       "18490  2016    36           3XX W 18TH ST      3   T043    GRAVID   \n",
       "18491  2007    34    46XX N MILWAUKEE AVE     46   T003    GRAVID   \n",
       "18492  2016    30        127XX S DOTY AVE    127   T115    GRAVID   \n",
       "18493  2017    33      20XX N DOMINICK ST     20  T240B  SENTINEL   \n",
       "18494  2015    33   100XX W OHARE AIRPORT    100   T902    GRAVID   \n",
       "\n",
       "                     Date  Mosquito number Mosquito ID WNV Present  \\\n",
       "0     2019-09-26 00:09:00                2         Res    negative   \n",
       "1     2019-09-26 00:09:00                1         Res    negative   \n",
       "2     2019-09-26 00:09:00                2         Res    negative   \n",
       "3     2019-09-26 00:09:00                1         Res    negative   \n",
       "4     2019-09-26 00:09:00                9         Res    negative   \n",
       "...                   ...              ...         ...         ...   \n",
       "18490 2016-09-09 00:09:00                4         Pip    positive   \n",
       "18491 2007-08-24 00:08:00               19         Pip    positive   \n",
       "18492 2016-07-27 00:07:00               34         Res    positive   \n",
       "18493 2017-08-17 00:08:00               50         Res    positive   \n",
       "18494 2015-08-20 00:08:00                6         Res    positive   \n",
       "\n",
       "              Species        Lat        Lon  \n",
       "0      CULEX RESTUANS        NaN        NaN  \n",
       "1      CULEX RESTUANS  41.798211 -87.736925  \n",
       "2      CULEX RESTUANS  41.987245 -87.689417  \n",
       "3      CULEX RESTUANS  41.953664 -87.724987  \n",
       "4      CULEX RESTUANS  41.657069 -87.546049  \n",
       "...               ...        ...        ...  \n",
       "18490   CULEX PIPIENS  41.857843 -87.635858  \n",
       "18491   CULEX PIPIENS  41.965376 -87.758403  \n",
       "18492  CULEX RESTUANS  41.662395 -87.590176  \n",
       "18493  CULEX RESTUANS  41.919197 -87.664758  \n",
       "18494  CULEX RESTUANS        NaN        NaN  \n",
       "\n",
       "[18495 rows x 13 columns]"
      ]
     },
     "metadata": {},
     "output_type": "display_data"
    }
   ],
   "source": [
    "# Print the shape, firt five row &* last fivee rows of the dataframe. \n",
    "display(df_mosquito)"
   ]
  },
  {
   "cell_type": "markdown",
   "id": "fd68dcba-bfec-4021-a781-917063bca101",
   "metadata": {},
   "source": [
    "'Mosquito ID' and 'Species' appear to carry data that serve the same purpose, which is identify each mosquito. Both are also categorical data columns, which  makes the likelihood of redundancy higher. \n",
    "\n",
    "It could be a coincidence, but it looks like each 'Mosquito ID' seems to be the first three letters of the second half of the mosquito species name in the same row. "
   ]
  },
  {
   "cell_type": "code",
   "execution_count": 19,
   "id": "f3a1c89c-9deb-4f9f-8fc8-9a6bdd8e355b",
   "metadata": {},
   "outputs": [
    {
     "data": {
      "text/plain": [
       "array(['CULEX RESTUANS', 'CULEX TERRITANS', 'CULEX SALINARIUS',\n",
       "       'CULEX PIPIENS'], dtype=object)"
      ]
     },
     "execution_count": 19,
     "metadata": {},
     "output_type": "execute_result"
    }
   ],
   "source": [
    "# Print all unique values in Species column.\n",
    "df_mosquito['Species'].unique()"
   ]
  },
  {
   "cell_type": "code",
   "execution_count": 20,
   "id": "5f7e48db-e730-4e5b-b9aa-0f2610ecef73",
   "metadata": {},
   "outputs": [
    {
     "data": {
      "text/plain": [
       "array(['Res', 'Ter', 'Sal', 'Pip'], dtype=object)"
      ]
     },
     "execution_count": 20,
     "metadata": {},
     "output_type": "execute_result"
    }
   ],
   "source": [
    "# Print all unique values in Mosquito ID column.\n",
    "df_mosquito['Mosquito ID'].unique()"
   ]
  },
  {
   "cell_type": "markdown",
   "id": "2d34ac1e-f8a6-47ab-9999-747a0ce8d149",
   "metadata": {},
   "source": [
    "Both the 'Species' Column and the 'Mosquito ID' column has the same amount of unique values. \n",
    "\n",
    "Next we will see the number all possible combinations both column values in a row for this data set. \n",
    "\n",
    "If for in a row, we see for a value in the 'Species' column we consistantly see the same value in the 'Mosquito ID' column, it is an indicator of redundancy. "
   ]
  },
  {
   "cell_type": "code",
   "execution_count": 21,
   "id": "c4613790-1a87-48df-aaa0-aa7da1ed80cb",
   "metadata": {},
   "outputs": [
    {
     "name": "stdout",
     "output_type": "stream",
     "text": [
      "Combination (CULEX RESTUANS, Res) exists in the dataset\n",
      "Combination (CULEX RESTUANS, Ter) does not exist in the dataset\n",
      "Combination (CULEX RESTUANS, Sal) does not exist in the dataset\n",
      "Combination (CULEX RESTUANS, Pip) does not exist in the dataset\n",
      "Combination (CULEX TERRITANS, Res) does not exist in the dataset\n",
      "Combination (CULEX TERRITANS, Ter) exists in the dataset\n",
      "Combination (CULEX TERRITANS, Sal) does not exist in the dataset\n",
      "Combination (CULEX TERRITANS, Pip) does not exist in the dataset\n",
      "Combination (CULEX SALINARIUS, Res) does not exist in the dataset\n",
      "Combination (CULEX SALINARIUS, Ter) does not exist in the dataset\n",
      "Combination (CULEX SALINARIUS, Sal) exists in the dataset\n",
      "Combination (CULEX SALINARIUS, Pip) does not exist in the dataset\n",
      "Combination (CULEX PIPIENS, Res) does not exist in the dataset\n",
      "Combination (CULEX PIPIENS, Ter) does not exist in the dataset\n",
      "Combination (CULEX PIPIENS, Sal) does not exist in the dataset\n",
      "Combination (CULEX PIPIENS, Pip) exists in the dataset\n"
     ]
    }
   ],
   "source": [
    "# Get unique values from both columns\n",
    "unique_values_col1 = df_mosquito['Species'].unique()\n",
    "unique_values_col2 = df_mosquito['Mosquito ID'].unique()\n",
    "\n",
    "# Generate all combinations of values\n",
    "combinations = list(product(unique_values_col1, unique_values_col2))\n",
    "\n",
    "# Initialize count variable\n",
    "count = 0\n",
    "\n",
    "# Iterate through combinations and check if they exist in the DataFrame\n",
    "for val1, val2 in combinations:\n",
    "    combination_exists = ((df_mosquito['Species'] == val1) & (df_mosquito['Mosquito ID'] == val2)).any()\n",
    "    if combination_exists:\n",
    "        count += 1\n",
    "        print(f\"Combination ({val1}, {val2}) exists in the dataset\")\n",
    "    else:\n",
    "        print(f\"Combination ({val1}, {val2}) does not exist in the dataset\")"
   ]
  },
  {
   "cell_type": "markdown",
   "id": "7e607c94-3ea2-4100-a679-44397bc77ad9",
   "metadata": {},
   "source": [
    "Checks how many combinations of the values for column exists. \n",
    "\n",
    "We see for every CULEX RESTUAN there is a Res in the same row.\n",
    "We see for every CULEX TERRITANS there is a Ter in the same row. \n",
    "We see for every CULEX SALINARIUS there is a Sal in the same row. \n",
    "We see for every CULEX PIPIENS there is a Pip in the same row."
   ]
  },
  {
   "cell_type": "markdown",
   "id": "3aa04ca7-8410-4c60-8185-8e3007d9fdc5",
   "metadata": {},
   "source": [
    "Next we will test to see if each value has the same count of mosquitos as a sense check. "
   ]
  },
  {
   "cell_type": "code",
   "execution_count": 22,
   "id": "2633c6b0-8184-4677-a587-c00e4f98e259",
   "metadata": {},
   "outputs": [
    {
     "data": {
      "image/png": "[encoded data removed]",
      "text/plain": [
       "<Figure size 640x480 with 2 Axes>"
      ]
     },
     "metadata": {},
     "output_type": "display_data"
    }
   ],
   "source": [
    "# Create a figure with two subplots arranged in a 1x2 grid (one row, two columns)\n",
    "plt.subplots(1, 2)\n",
    "\n",
    "# Left subplot (Slot 1 in the 1x2 grid)\n",
    "plt.subplot(1, 2, 1)  \n",
    "df_mosquito['Mosquito ID'].value_counts().plot(kind='bar') # Plot a bar plot of Mosquito ID counts\n",
    "plt.title('Count of Mosquitos by Mosquito ID')\n",
    "\n",
    "# Right subplot (Slot 2 in the 1x2 grid)\n",
    "plt.subplot(1, 2, 2)  \n",
    "df_mosquito['Species'].value_counts().plot(kind='bar') # Plot a bar plot of Species counts\n",
    "plt.title('Count of Mosquitos by Species')\n",
    "\n",
    "# Makes sure there is no overlap in plots\n",
    "plt.tight_layout() \n",
    "\n",
    "plt.show()"
   ]
  },
  {
   "cell_type": "markdown",
   "id": "dfbe120f-31cc-4869-8a57-048b146a60d0",
   "metadata": {},
   "source": [
    "The above bar charts are a sense check, if there is a 1:1 relationship between the 'Species' and 'Mosquito ID' columns, we should see the distribution<br>\n",
    "of the count of mosquitos be the same for each unique value in the 'Species' column that is in the same row as each unique value in the Mosquito ID column.<br>\n",
    "Ex. We see for every CULEX RESTUAN has the same mosquito count as Res. We ee this every speices with a corresponding Mosquito ID.<br>\n",
    "From this we can determine that Mosquito ID is just an abbrevation of the second part of the Mosquito Species name, which makes Mosquito ID a redunant columen.<br>\n",
    "\n",
    "'Species' and 'Mosquito ID' columns are the not only columns that are redundant. It appears the 'Address Block' and 'Block' may also be redundant. Not only do<br>\n",
    "the headers for each column contain the word 'Block', but the row-value in Block (ranges from 1-3 digits in lenght), matches the first 1-3 digits of the row-value<br>\n",
    "in the 'Address Block' column. This can be seen in the first 15 rows printed below. "
   ]
  },
  {
   "cell_type": "code",
   "execution_count": 23,
   "id": "985fcc72-22ae-4b98-ae01-df1685e0ed9f",
   "metadata": {},
   "outputs": [
    {
     "name": "stdout",
     "output_type": "stream",
     "text": [
      "             Address Block  Block\n",
      "0    100XX W OHARE AIRPORT    100\n",
      "1        52XX S KOLMAR AVE     52\n",
      "2       58XX N WESTERN AVE     58\n",
      "3   39XX N SPRINGFIELD AVE     39\n",
      "4      131XX S BRANDON AVE    131\n",
      "5         21XX N CANNON DR     21\n",
      "6      11XX W ROOSEVELT RD     11\n",
      "7           22XX W 51ST ST     22\n",
      "8         22XX N CANNON DR     22\n",
      "9           3XX W 104TH ST      3\n",
      "10        25XX W GRAND AVE     25\n",
      "11      82XX S KOSTNER AVE     82\n",
      "12   1XX N CENTRAL PARK DR      1\n",
      "13     77XX S EBERHART AVE     77\n",
      "14     77XX S EBERHART AVE     77\n"
     ]
    }
   ],
   "source": [
    "# Display the first 15 rows and selected columns\n",
    "print(df_mosquito[['Address Block', 'Block']].head(15))"
   ]
  },
  {
   "cell_type": "markdown",
   "id": "cf97edf0-a743-408b-8d0a-bb3050a99621",
   "metadata": {},
   "source": [
    "We will run a loop that will iterated over the rows of the dataframe. It will look for the first few characters in the row-value of 'Address Block' and cross check it<br> \n",
    "against the corresponding row-value in 'Block'. If all the row-values in 'Block' match the first few characters in the row-value of 'Address Block', then we know that<br> \n",
    "the 'Block' column is redundant.<br> \n",
    "\n",
    "Lets figure out the max and min amount of characters this loop should look for. Since the row-values in 'Address Block' appear in a string form with numbers coming first<br> \n",
    "followed by letters, we will use 'Block' to determine how many characters the loop should search through."
   ]
  },
  {
   "cell_type": "code",
   "execution_count": 24,
   "id": "ff8974bf-9ac5-47f3-8f65-4d9333739a2c",
   "metadata": {},
   "outputs": [
    {
     "data": {
      "text/plain": [
       "Block    132\n",
       "dtype: int64"
      ]
     },
     "execution_count": 24,
     "metadata": {},
     "output_type": "execute_result"
    }
   ],
   "source": [
    "# Calculate and display the maximum for selected column\n",
    "df_mosquito[['Block']].max()"
   ]
  },
  {
   "cell_type": "markdown",
   "id": "3eec8f8a-e286-47da-849f-04040afb7576",
   "metadata": {},
   "source": [
    "The maximum amount of characters we will have the loop search through is three. "
   ]
  },
  {
   "cell_type": "code",
   "execution_count": 25,
   "id": "8ad71da0-cb91-4e04-a82e-66022c163598",
   "metadata": {},
   "outputs": [
    {
     "name": "stdout",
     "output_type": "stream",
     "text": [
      "One match: True\n",
      "Two matches: True\n",
      "Three matches: True\n"
     ]
    }
   ],
   "source": [
    "# Initialize boolean variables to indicate matches\n",
    "one_match = False\n",
    "two_match = False\n",
    "three_match = False\n",
    "\n",
    "# Iterate over the rows of the DataFrame\n",
    "for index, row in df_mosquito.iterrows():\n",
    "    address_block = str(row['Address Block'])  # Convert to string in case it's not already\n",
    "    block = str(row['Block'])  # Convert to string in case it's not already\n",
    "    \n",
    "    # Determine the number of digits to check based on the length of the 'Block' column value\n",
    "    num_digits_to_check = len(block)\n",
    "    \n",
    "    # Check for matches based on the number of digits to check\n",
    "    if num_digits_to_check >= 1 and address_block.startswith(block[:1]):\n",
    "        one_match = True\n",
    "    \n",
    "    if num_digits_to_check >= 2 and address_block.startswith(block[:2]):\n",
    "        two_match = True\n",
    "    \n",
    "    if num_digits_to_check >= 3 and address_block.startswith(block[:3]):\n",
    "        three_match = True\n",
    "\n",
    "# Print boolean values indicating matches\n",
    "print(f\"One match: {one_match}\")\n",
    "print(f\"Two matches: {two_match}\")\n",
    "print(f\"Three matches: {three_match}\")"
   ]
  },
  {
   "cell_type": "markdown",
   "id": "674ebc2d-bf25-403c-a9f5-21254c885ce8",
   "metadata": {},
   "source": [
    "Based on the matches above beging true for all three leading digit counts, we can confirm that the 'Address Block' and 'Block' are redundant. \n",
    "Between the two columns, 'Address Block' is more rich in data as it also contains the address in it, so we will drop the 'Block column'.\n",
    "\n",
    "Since we have confirmed all the more obvious redudant columns to be 'Mosquito ID' and 'Block', we will drop now them. "
   ]
  },
  {
   "cell_type": "code",
   "execution_count": 26,
   "id": "334e771e-5842-4ece-8b4a-a348fd771acb",
   "metadata": {},
   "outputs": [],
   "source": [
    "#Dropping columns\n",
    "df_mosquito.drop(['Mosquito ID','Block'], axis=1, inplace=True)"
   ]
  },
  {
   "cell_type": "markdown",
   "id": "fb137b5d-3900-4d5d-a02d-21cc64add7f9",
   "metadata": {},
   "source": [
    "Here we drop the 'Mosquito ID' and 'Block' columns."
   ]
  },
  {
   "cell_type": "code",
   "execution_count": 27,
   "id": "ca119b9f-e372-438f-b1db-bea1ec20b659",
   "metadata": {},
   "outputs": [
    {
     "name": "stdout",
     "output_type": "stream",
     "text": [
      "<class 'pandas.core.frame.DataFrame'>\n",
      "RangeIndex: 18495 entries, 0 to 18494\n",
      "Data columns (total 11 columns):\n",
      " #   Column           Non-Null Count  Dtype         \n",
      "---  ------           --------------  -----         \n",
      " 0   Year             18495 non-null  int64         \n",
      " 1   Week             18495 non-null  int64         \n",
      " 2   Address Block    18495 non-null  object        \n",
      " 3   Trap             18495 non-null  object        \n",
      " 4   Trap type        18495 non-null  object        \n",
      " 5   Date             18495 non-null  datetime64[ns]\n",
      " 6   Mosquito number  18495 non-null  int64         \n",
      " 7   WNV Present      18495 non-null  object        \n",
      " 8   Species          18495 non-null  object        \n",
      " 9   Lat              15571 non-null  float64       \n",
      " 10  Lon              15571 non-null  float64       \n",
      "dtypes: datetime64[ns](1), float64(2), int64(3), object(5)\n",
      "memory usage: 1.6+ MB\n"
     ]
    }
   ],
   "source": [
    "# Display information about the  df_mosquito DataFrame \n",
    "df_mosquito.info()"
   ]
  },
  {
   "cell_type": "markdown",
   "id": "ca0f803f-6148-41f5-8833-374f10c03c68",
   "metadata": {},
   "source": [
    "Here we do sanity/sense check to confirm the 'Mosquito ID' and 'Block columns were droppped.\n",
    "We do not see the 'Mosquito ID' and 'Block columns here."
   ]
  },
  {
   "cell_type": "code",
   "execution_count": 28,
   "id": "c4a27662-ce64-4a69-b8b8-b2424f70bd51",
   "metadata": {},
   "outputs": [
    {
     "data": {
      "text/html": [
       "<div>\n",
       "<style scoped>\n",
       "    .dataframe tbody tr th:only-of-type {\n",
       "        vertical-align: middle;\n",
       "    }\n",
       "\n",
       "    .dataframe tbody tr th {\n",
       "        vertical-align: top;\n",
       "    }\n",
       "\n",
       "    .dataframe thead th {\n",
       "        text-align: right;\n",
       "    }\n",
       "</style>\n",
       "<table border=\"1\" class=\"dataframe\">\n",
       "  <thead>\n",
       "    <tr style=\"text-align: right;\">\n",
       "      <th></th>\n",
       "      <th>Year</th>\n",
       "      <th>Week</th>\n",
       "      <th>Address Block</th>\n",
       "      <th>Trap</th>\n",
       "      <th>Trap type</th>\n",
       "      <th>Date</th>\n",
       "      <th>Mosquito number</th>\n",
       "      <th>WNV Present</th>\n",
       "      <th>Species</th>\n",
       "      <th>Lat</th>\n",
       "      <th>Lon</th>\n",
       "    </tr>\n",
       "  </thead>\n",
       "  <tbody>\n",
       "    <tr>\n",
       "      <th>0</th>\n",
       "      <td>2019</td>\n",
       "      <td>39</td>\n",
       "      <td>100XX W OHARE AIRPORT</td>\n",
       "      <td>T910</td>\n",
       "      <td>GRAVID</td>\n",
       "      <td>2019-09-26 00:09:00</td>\n",
       "      <td>2</td>\n",
       "      <td>negative</td>\n",
       "      <td>CULEX RESTUANS</td>\n",
       "      <td>NaN</td>\n",
       "      <td>NaN</td>\n",
       "    </tr>\n",
       "    <tr>\n",
       "      <th>1</th>\n",
       "      <td>2019</td>\n",
       "      <td>39</td>\n",
       "      <td>52XX S KOLMAR AVE</td>\n",
       "      <td>T114</td>\n",
       "      <td>GRAVID</td>\n",
       "      <td>2019-09-26 00:09:00</td>\n",
       "      <td>1</td>\n",
       "      <td>negative</td>\n",
       "      <td>CULEX RESTUANS</td>\n",
       "      <td>41.798211</td>\n",
       "      <td>-87.736925</td>\n",
       "    </tr>\n",
       "    <tr>\n",
       "      <th>2</th>\n",
       "      <td>2019</td>\n",
       "      <td>39</td>\n",
       "      <td>58XX N WESTERN AVE</td>\n",
       "      <td>T028</td>\n",
       "      <td>GRAVID</td>\n",
       "      <td>2019-09-26 00:09:00</td>\n",
       "      <td>2</td>\n",
       "      <td>negative</td>\n",
       "      <td>CULEX RESTUANS</td>\n",
       "      <td>41.987245</td>\n",
       "      <td>-87.689417</td>\n",
       "    </tr>\n",
       "    <tr>\n",
       "      <th>3</th>\n",
       "      <td>2019</td>\n",
       "      <td>39</td>\n",
       "      <td>39XX N SPRINGFIELD AVE</td>\n",
       "      <td>T228</td>\n",
       "      <td>GRAVID</td>\n",
       "      <td>2019-09-26 00:09:00</td>\n",
       "      <td>1</td>\n",
       "      <td>negative</td>\n",
       "      <td>CULEX RESTUANS</td>\n",
       "      <td>41.953664</td>\n",
       "      <td>-87.724987</td>\n",
       "    </tr>\n",
       "    <tr>\n",
       "      <th>4</th>\n",
       "      <td>2019</td>\n",
       "      <td>39</td>\n",
       "      <td>131XX S BRANDON AVE</td>\n",
       "      <td>T209</td>\n",
       "      <td>GRAVID</td>\n",
       "      <td>2019-09-26 00:09:00</td>\n",
       "      <td>9</td>\n",
       "      <td>negative</td>\n",
       "      <td>CULEX RESTUANS</td>\n",
       "      <td>41.657069</td>\n",
       "      <td>-87.546049</td>\n",
       "    </tr>\n",
       "  </tbody>\n",
       "</table>\n",
       "</div>"
      ],
      "text/plain": [
       "   Year  Week           Address Block  Trap Trap type                Date  \\\n",
       "0  2019    39   100XX W OHARE AIRPORT  T910    GRAVID 2019-09-26 00:09:00   \n",
       "1  2019    39       52XX S KOLMAR AVE  T114    GRAVID 2019-09-26 00:09:00   \n",
       "2  2019    39      58XX N WESTERN AVE  T028    GRAVID 2019-09-26 00:09:00   \n",
       "3  2019    39  39XX N SPRINGFIELD AVE  T228    GRAVID 2019-09-26 00:09:00   \n",
       "4  2019    39     131XX S BRANDON AVE  T209    GRAVID 2019-09-26 00:09:00   \n",
       "\n",
       "   Mosquito number WNV Present         Species        Lat        Lon  \n",
       "0                2    negative  CULEX RESTUANS        NaN        NaN  \n",
       "1                1    negative  CULEX RESTUANS  41.798211 -87.736925  \n",
       "2                2    negative  CULEX RESTUANS  41.987245 -87.689417  \n",
       "3                1    negative  CULEX RESTUANS  41.953664 -87.724987  \n",
       "4                9    negative  CULEX RESTUANS  41.657069 -87.546049  "
      ]
     },
     "execution_count": 28,
     "metadata": {},
     "output_type": "execute_result"
    }
   ],
   "source": [
    "df_mosquito.head()"
   ]
  },
  {
   "cell_type": "markdown",
   "id": "0f2aa633-5049-4a90-bb74-ca7cfcf0e588",
   "metadata": {},
   "source": [
    "Here we do another sanity/sense check to confirm the 'Mosquito ID' and 'Block columns were droppped. <br>\n",
    "We do not see the 'Mosquito ID' and 'Block columns here."
   ]
  },
  {
   "cell_type": "markdown",
   "id": "6c9b1032-bdfb-4be4-a6e6-acb7f931f459",
   "metadata": {},
   "source": [
    "### 5. Are there any null values in the dataframe? If so, deal with them appropriately.\n"
   ]
  },
  {
   "cell_type": "code",
   "execution_count": 29,
   "id": "2a4ebbcb-42f3-4dcb-a071-98be3fcd6935",
   "metadata": {},
   "outputs": [
    {
     "data": {
      "text/plain": [
       "Year                  0\n",
       "Week                  0\n",
       "Address Block         0\n",
       "Trap                  0\n",
       "Trap type             0\n",
       "Date                  0\n",
       "Mosquito number       0\n",
       "WNV Present           0\n",
       "Species               0\n",
       "Lat                2924\n",
       "Lon                2924\n",
       "dtype: int64"
      ]
     },
     "execution_count": 29,
     "metadata": {},
     "output_type": "execute_result"
    }
   ],
   "source": [
    "# Print the sum of null values for each column in the dataframe.\n",
    "df_mosquito.isna().sum(axis=0)"
   ]
  },
  {
   "cell_type": "markdown",
   "id": "bd566aa3-cc0a-4e02-b4a4-3e992c6236b1",
   "metadata": {},
   "source": [
    "It appears the Lat and Lon columns are the only columns missing values. "
   ]
  },
  {
   "cell_type": "code",
   "execution_count": 30,
   "id": "0c668617-c8be-4c0c-a02c-6251b38c00d4",
   "metadata": {},
   "outputs": [
    {
     "data": {
      "text/plain": [
       "Year                0.000000\n",
       "Week                0.000000\n",
       "Address Block       0.000000\n",
       "Trap                0.000000\n",
       "Trap type           0.000000\n",
       "Date                0.000000\n",
       "Mosquito number     0.000000\n",
       "WNV Present         0.000000\n",
       "Species             0.000000\n",
       "Lat                15.809678\n",
       "Lon                15.809678\n",
       "dtype: float64"
      ]
     },
     "execution_count": 30,
     "metadata": {},
     "output_type": "execute_result"
    }
   ],
   "source": [
    "# Print the sum of null values for each column in the dataframe, but expresses them as a percent. \n",
    "100 * (df_mosquito.isna().sum(axis=0) /df_mosquito.shape[0])"
   ]
  },
  {
   "cell_type": "markdown",
   "id": "27174ada-5d37-4a9d-97bd-49d048d68da9",
   "metadata": {},
   "source": [
    "Here we see that about 15.8% of the values for the Lat column is missing. This is also the case for the Lon column.<br>\n",
    "Bsed on this value of 15.8% will we consider not dropping the columns at this point, but futher investigation is required."
   ]
  },
  {
   "cell_type": "code",
   "execution_count": 31,
   "id": "3c70c458-a9f4-45e3-bdb2-453f33d90bd5",
   "metadata": {},
   "outputs": [
    {
     "data": {
      "text/html": [
       "<div>\n",
       "<style scoped>\n",
       "    .dataframe tbody tr th:only-of-type {\n",
       "        vertical-align: middle;\n",
       "    }\n",
       "\n",
       "    .dataframe tbody tr th {\n",
       "        vertical-align: top;\n",
       "    }\n",
       "\n",
       "    .dataframe thead th {\n",
       "        text-align: right;\n",
       "    }\n",
       "</style>\n",
       "<table border=\"1\" class=\"dataframe\">\n",
       "  <thead>\n",
       "    <tr style=\"text-align: right;\">\n",
       "      <th></th>\n",
       "      <th>Lat</th>\n",
       "      <th>Lon</th>\n",
       "    </tr>\n",
       "  </thead>\n",
       "  <tbody>\n",
       "    <tr>\n",
       "      <th>count</th>\n",
       "      <td>15571.000000</td>\n",
       "      <td>15571.000000</td>\n",
       "    </tr>\n",
       "    <tr>\n",
       "      <th>mean</th>\n",
       "      <td>41.839963</td>\n",
       "      <td>-87.691642</td>\n",
       "    </tr>\n",
       "    <tr>\n",
       "      <th>std</th>\n",
       "      <td>0.111374</td>\n",
       "      <td>0.076545</td>\n",
       "    </tr>\n",
       "    <tr>\n",
       "      <th>min</th>\n",
       "      <td>41.644720</td>\n",
       "      <td>-87.854473</td>\n",
       "    </tr>\n",
       "    <tr>\n",
       "      <th>25%</th>\n",
       "      <td>41.742670</td>\n",
       "      <td>-87.747459</td>\n",
       "    </tr>\n",
       "    <tr>\n",
       "      <th>50%</th>\n",
       "      <td>41.845715</td>\n",
       "      <td>-87.691698</td>\n",
       "    </tr>\n",
       "    <tr>\n",
       "      <th>75%</th>\n",
       "      <td>41.945961</td>\n",
       "      <td>-87.637873</td>\n",
       "    </tr>\n",
       "    <tr>\n",
       "      <th>max</th>\n",
       "      <td>42.017801</td>\n",
       "      <td>-87.531051</td>\n",
       "    </tr>\n",
       "  </tbody>\n",
       "</table>\n",
       "</div>"
      ],
      "text/plain": [
       "                Lat           Lon\n",
       "count  15571.000000  15571.000000\n",
       "mean      41.839963    -87.691642\n",
       "std        0.111374      0.076545\n",
       "min       41.644720    -87.854473\n",
       "25%       41.742670    -87.747459\n",
       "50%       41.845715    -87.691698\n",
       "75%       41.945961    -87.637873\n",
       "max       42.017801    -87.531051"
      ]
     },
     "execution_count": 31,
     "metadata": {},
     "output_type": "execute_result"
    }
   ],
   "source": [
    "# Print the desctiption of the Lat and Lon columns in the dataframe\n",
    "df_mosquito[['Lat','Lon']].describe()"
   ]
  },
  {
   "cell_type": "markdown",
   "id": "92056d54-63c4-443d-9498-bd641af34c6c",
   "metadata": {},
   "source": [
    "Based on the summary stats above, columns Lat and Lon have very narrow range between their max and min, which means the exact,physical locations of the traps are also within a narrow range.<br> However, the testing site is very narroe in range, so the narrow range in Lat and Lon is still significant."
   ]
  },
  {
   "cell_type": "code",
   "execution_count": 32,
   "id": "e8ffe043-75f1-4608-b041-bb223dfadb3b",
   "metadata": {},
   "outputs": [
    {
     "data": {
      "text/html": [
       "<div>\n",
       "<style scoped>\n",
       "    .dataframe tbody tr th:only-of-type {\n",
       "        vertical-align: middle;\n",
       "    }\n",
       "\n",
       "    .dataframe tbody tr th {\n",
       "        vertical-align: top;\n",
       "    }\n",
       "\n",
       "    .dataframe thead th {\n",
       "        text-align: right;\n",
       "    }\n",
       "</style>\n",
       "<table border=\"1\" class=\"dataframe\">\n",
       "  <thead>\n",
       "    <tr style=\"text-align: right;\">\n",
       "      <th></th>\n",
       "      <th>mean</th>\n",
       "      <th>median</th>\n",
       "    </tr>\n",
       "    <tr>\n",
       "      <th>WNV Present</th>\n",
       "      <th></th>\n",
       "      <th></th>\n",
       "    </tr>\n",
       "  </thead>\n",
       "  <tbody>\n",
       "    <tr>\n",
       "      <th>negative</th>\n",
       "      <td>41.835907</td>\n",
       "      <td>41.825398</td>\n",
       "    </tr>\n",
       "    <tr>\n",
       "      <th>positive</th>\n",
       "      <td>41.856167</td>\n",
       "      <td>41.883721</td>\n",
       "    </tr>\n",
       "  </tbody>\n",
       "</table>\n",
       "</div>"
      ],
      "text/plain": [
       "                  mean     median\n",
       "WNV Present                      \n",
       "negative     41.835907  41.825398\n",
       "positive     41.856167  41.883721"
      ]
     },
     "execution_count": 32,
     "metadata": {},
     "output_type": "execute_result"
    }
   ],
   "source": [
    "# Does Lat affect WNV presence?\n",
    "df_mosquito.groupby(\"WNV Present\")[\"Lat\"].agg([\"mean\", \"median\"])"
   ]
  },
  {
   "cell_type": "markdown",
   "id": "597c6fd4-fdf0-4193-962f-c75b83b62f23",
   "metadata": {},
   "source": [
    "We see a difference between the median and mean for both postive and negative WNV mosoquitos, so the Lat does affect WNV presence at this granular level. "
   ]
  },
  {
   "cell_type": "code",
   "execution_count": 33,
   "id": "887f7ed2-06af-4cef-8869-e97125c541e1",
   "metadata": {},
   "outputs": [
    {
     "data": {
      "text/html": [
       "<div>\n",
       "<style scoped>\n",
       "    .dataframe tbody tr th:only-of-type {\n",
       "        vertical-align: middle;\n",
       "    }\n",
       "\n",
       "    .dataframe tbody tr th {\n",
       "        vertical-align: top;\n",
       "    }\n",
       "\n",
       "    .dataframe thead th {\n",
       "        text-align: right;\n",
       "    }\n",
       "</style>\n",
       "<table border=\"1\" class=\"dataframe\">\n",
       "  <thead>\n",
       "    <tr style=\"text-align: right;\">\n",
       "      <th></th>\n",
       "      <th>mean</th>\n",
       "      <th>median</th>\n",
       "    </tr>\n",
       "    <tr>\n",
       "      <th>WNV Present</th>\n",
       "      <th></th>\n",
       "      <th></th>\n",
       "    </tr>\n",
       "  </thead>\n",
       "  <tbody>\n",
       "    <tr>\n",
       "      <th>negative</th>\n",
       "      <td>-87.686795</td>\n",
       "      <td>-87.689417</td>\n",
       "    </tr>\n",
       "    <tr>\n",
       "      <th>positive</th>\n",
       "      <td>-87.711005</td>\n",
       "      <td>-87.716165</td>\n",
       "    </tr>\n",
       "  </tbody>\n",
       "</table>\n",
       "</div>"
      ],
      "text/plain": [
       "                  mean     median\n",
       "WNV Present                      \n",
       "negative    -87.686795 -87.689417\n",
       "positive    -87.711005 -87.716165"
      ]
     },
     "execution_count": 33,
     "metadata": {},
     "output_type": "execute_result"
    }
   ],
   "source": [
    "# Does Lon affect WNV presence?\n",
    "df_mosquito.groupby(\"WNV Present\")[\"Lon\"].agg([\"mean\", \"median\"])"
   ]
  },
  {
   "cell_type": "markdown",
   "id": "5b1d20d6-2140-400d-bf9d-d546f293b756",
   "metadata": {},
   "source": [
    "Let explore the distrubtion of to Lat and Lon."
   ]
  },
  {
   "cell_type": "markdown",
   "id": "29c815f5-543e-45c3-8c28-b92fb47064bc",
   "metadata": {},
   "source": [
    "We see a difference between the median and mean for both postive and negative WNV mosoquitos, so the Lon does affect WNV presence at this level. "
   ]
  },
  {
   "cell_type": "code",
   "execution_count": 34,
   "id": "5f18da87-8e15-4893-8efc-bad764afb9ad",
   "metadata": {},
   "outputs": [
    {
     "data": {
      "image/png": "[encoded data removed]",
      "text/plain": [
       "<Figure size 800x500 with 1 Axes>"
      ]
     },
     "metadata": {},
     "output_type": "display_data"
    }
   ],
   "source": [
    "# Create a histogram of the \"Lat\" column with 15 bins\n",
    "plt.figure(figsize=(8,5))\n",
    "plt.hist(df_mosquito['Lat'], bins=15)\n",
    "\n",
    "# Add vertical lines for the mean and median\n",
    "plt.axvline(df_mosquito['Lat'].mean(), color='lightcoral', label='mean')\n",
    "plt.axvline(df_mosquito['Lat'].median(), color='lightcoral', linestyle='--', label='median')\n",
    "\n",
    "# Set the title and axis labels\n",
    "plt.title('Distribution of Lat')\n",
    "plt.ylabel('Counts')\n",
    "plt.xlabel('Lat bins')\n",
    "sns.despine()\n",
    "\n",
    "plt.legend()\n",
    "plt.show()"
   ]
  },
  {
   "cell_type": "markdown",
   "id": "2bdd0eb7-95f1-49a8-ba30-812c48abdcdf",
   "metadata": {},
   "source": [
    "The mean and median are not identical for LAT and the distribution of count for each Lat bin does not appear to be even. "
   ]
  },
  {
   "cell_type": "code",
   "execution_count": 35,
   "id": "8ca4ca4e-b940-429c-bcbd-cec396f69e2b",
   "metadata": {},
   "outputs": [
    {
     "data": {
      "image/png": "[encoded data removed]",
      "text/plain": [
       "<Figure size 800x500 with 1 Axes>"
      ]
     },
     "metadata": {},
     "output_type": "display_data"
    }
   ],
   "source": [
    "# Create a histogram\n",
    "plt.figure(figsize=(8,5))\n",
    "plt.hist(df_mosquito['Lon'], bins=15)\n",
    "\n",
    "plt.axvline(df_mosquito['Lon'].mean(), color='lightcoral', label='mean')\n",
    "plt.axvline(df_mosquito['Lon'].median(), color='lightcoral', linestyle='--', label='median')\n",
    "\n",
    "plt.title('Distribution of Lon')\n",
    "plt.ylabel('Counts')\n",
    "plt.xlabel('Lon bins')\n",
    "sns.despine()\n",
    "\n",
    "plt.legend()\n",
    "plt.show()"
   ]
  },
  {
   "cell_type": "markdown",
   "id": "7b7306a7-48d1-4d45-b8c9-ab35378297e5",
   "metadata": {},
   "source": [
    "The mean and median appear to be almost identical for Lon. The distribution does not appear to be particularly skewed. However, between -87.85 and -87.80, we see<br>\n",
    "a signiifcant drops in counts, which could have an impact on WNV presence, so we will resort to imputation.\n",
    "\n",
    "We will used the 'Address Block', since it is referring to location of traps, just like the 'Lat' and 'Lon' columns do and it is common knowledge that address<br> \n",
    "correspond to a Lat and Lon.\n",
    "\n",
    "Since there are no null/missing row-values in the 'Address Block' column and the 'Address Block' shows an exact address, we wll use the exact address to determine<br>\n",
    "what Lat and Lon row-values are missing. \n",
    "\n",
    "First we will count all of the unique row-values in the 'Address Block' column, to generate a list of address we need to search Lats and Lons for. "
   ]
  },
  {
   "cell_type": "code",
   "execution_count": 36,
   "id": "aeefff8a-7a16-4115-8f0e-922bb257164e",
   "metadata": {},
   "outputs": [
    {
     "name": "stdout",
     "output_type": "stream",
     "text": [
      "100XX W OHARE AIRPORT\n",
      "4XX W 127TH\n",
      "100XX W OHARE\n",
      "81XX S ASHLAND\n",
      "79XX S CHICAGO\n",
      "98XX S AVENUE G\n",
      "65XX N OAK PARK AVE\n",
      "115XX S AVENUE L\n",
      "30XX S HOYNE\n",
      "43XX N ASHLAND\n"
     ]
    }
   ],
   "source": [
    "# Filter rows where both 'Lat' and 'Lon' columns are NaN\n",
    "missing_lat_lon = df_mosquito[df_mosquito['Lat'].isna() & df_mosquito['Lon'].isna()]\n",
    "\n",
    "# Get unique values from the 'Address Block' column in the filtered DataFrame\n",
    "unique_missing_blocks = missing_lat_lon['Address Block'].unique()\n",
    "\n",
    "# Print the unique address blocks with missing lat and lon\n",
    "for block in unique_missing_blocks:\n",
    "    print(block)"
   ]
  },
  {
   "cell_type": "code",
   "execution_count": 37,
   "id": "67d652c4-bef3-4a31-b929-934d16e19853",
   "metadata": {},
   "outputs": [],
   "source": [
    "# Ditionary of address blocks\n",
    "address_Lat_Lon_coor = {\n",
    "'100XX W OHARE': {'Lat': 41.9767, 'Lon': -87.885},\n",
    "'100XX W OHARE AIRPORT': {'Lat': 41.9962, 'Lon': -87.92611},\n",
    "'115XX S AVENUE L': {'Lat': 41.87973, 'Lon': -87.68596},\n",
    "'30XX S HOYNE': {'Lat': 41.88085, 'Lon': -87.67914},\n",
    "'43XX N ASHLAND': {'Lat': 41.88229, 'Lon': -87.66668},\n",
    "'4XX W 127TH': {'Lat': 41.66345, 'Lon': -87.625},\n",
    "'65XX N OAK PARK AVE': {'Lat': 41.89465, 'Lon': -87.77807},\n",
    "'79XX S CHICAGO': {'Lat': 41.52246, 'Lon': -88.08158},\n",
    "'81XX S ASHLAND': {'Lat': 41.88025, 'Lon': -87.6666},\n",
    "'98XX S AVENUE G': {'Lat': 41.87942, 'Lon': -87.68653}\n",
    "}"
   ]
  },
  {
   "cell_type": "markdown",
   "id": "44e23b1e-271d-49b4-a13a-4d3854aedd31",
   "metadata": {},
   "source": [
    "Using the following website (https://www.latlong.net/), we are able to input the address above and find their corresponding Lat and Lon.<br>\n",
    "Once we found fall the missing Lat and lon, we then create dictionary where all the address are keys to which the Lat and Lon we found earlier<br>\n",
    "are assigned to. "
   ]
  },
  {
   "cell_type": "code",
   "execution_count": 38,
   "id": "52dce0b2-2e89-4ec8-babe-94972fd4dc77",
   "metadata": {},
   "outputs": [],
   "source": [
    "# Fill missing 'Lat' values based on 'Address Block' using the address_Lat_Lon_coor dictionary\n",
    "df_mosquito['Lat'] = df_mosquito.apply(lambda row: address_Lat_Lon_coor.get(row['Address Block'], {}).get('Lat', row['Lat']), axis=1)\n",
    "\n",
    "# Fill missing 'Lon' values based on 'Address Block' using the address_Lat_Lon_coor dictionary\n",
    "df_mosquito['Lon'] = df_mosquito.apply(lambda row: address_Lat_Lon_coor.get(row['Address Block'], {}).get('Lon', row['Lon']), axis=1)"
   ]
  },
  {
   "cell_type": "markdown",
   "id": "cad7606f-0b24-4a19-8b92-763da7dde63a",
   "metadata": {},
   "source": [
    "Here we use the dictionary to fill in all the missing/null values in the 'Lat' and 'Lon' columns."
   ]
  },
  {
   "cell_type": "code",
   "execution_count": 39,
   "id": "68f6353e-1cae-436e-bc91-3d60c1180c4d",
   "metadata": {},
   "outputs": [
    {
     "data": {
      "text/plain": [
       "Year               0\n",
       "Week               0\n",
       "Address Block      0\n",
       "Trap               0\n",
       "Trap type          0\n",
       "Date               0\n",
       "Mosquito number    0\n",
       "WNV Present        0\n",
       "Species            0\n",
       "Lat                0\n",
       "Lon                0\n",
       "dtype: int64"
      ]
     },
     "execution_count": 39,
     "metadata": {},
     "output_type": "execute_result"
    }
   ],
   "source": [
    "df_mosquito.isna().sum(axis=0)"
   ]
  },
  {
   "cell_type": "markdown",
   "id": "e5c245aa-6737-406f-9c62-53aa5bc4c5eb",
   "metadata": {},
   "source": [
    "Here we are doing a sense check to confirm all the missing/null values have been replace based on the Lat and Lon row-values<br>\n",
    "in the dictionary we created."
   ]
  },
  {
   "cell_type": "code",
   "execution_count": 40,
   "id": "f5b99ec7-df19-4b1d-9234-06b7e118d174",
   "metadata": {},
   "outputs": [
    {
     "data": {
      "text/html": [
       "<div>\n",
       "<style scoped>\n",
       "    .dataframe tbody tr th:only-of-type {\n",
       "        vertical-align: middle;\n",
       "    }\n",
       "\n",
       "    .dataframe tbody tr th {\n",
       "        vertical-align: top;\n",
       "    }\n",
       "\n",
       "    .dataframe thead th {\n",
       "        text-align: right;\n",
       "    }\n",
       "</style>\n",
       "<table border=\"1\" class=\"dataframe\">\n",
       "  <thead>\n",
       "    <tr style=\"text-align: right;\">\n",
       "      <th></th>\n",
       "      <th>Year</th>\n",
       "      <th>Week</th>\n",
       "      <th>Address Block</th>\n",
       "      <th>Trap</th>\n",
       "      <th>Trap type</th>\n",
       "      <th>Date</th>\n",
       "      <th>Mosquito number</th>\n",
       "      <th>WNV Present</th>\n",
       "      <th>Species</th>\n",
       "      <th>Lat</th>\n",
       "      <th>Lon</th>\n",
       "    </tr>\n",
       "  </thead>\n",
       "  <tbody>\n",
       "    <tr>\n",
       "      <th>0</th>\n",
       "      <td>2019</td>\n",
       "      <td>39</td>\n",
       "      <td>100XX W OHARE AIRPORT</td>\n",
       "      <td>T910</td>\n",
       "      <td>GRAVID</td>\n",
       "      <td>2019-09-26 00:09:00</td>\n",
       "      <td>2</td>\n",
       "      <td>negative</td>\n",
       "      <td>CULEX RESTUANS</td>\n",
       "      <td>41.996200</td>\n",
       "      <td>-87.926110</td>\n",
       "    </tr>\n",
       "    <tr>\n",
       "      <th>1</th>\n",
       "      <td>2019</td>\n",
       "      <td>39</td>\n",
       "      <td>52XX S KOLMAR AVE</td>\n",
       "      <td>T114</td>\n",
       "      <td>GRAVID</td>\n",
       "      <td>2019-09-26 00:09:00</td>\n",
       "      <td>1</td>\n",
       "      <td>negative</td>\n",
       "      <td>CULEX RESTUANS</td>\n",
       "      <td>41.798211</td>\n",
       "      <td>-87.736925</td>\n",
       "    </tr>\n",
       "    <tr>\n",
       "      <th>2</th>\n",
       "      <td>2019</td>\n",
       "      <td>39</td>\n",
       "      <td>58XX N WESTERN AVE</td>\n",
       "      <td>T028</td>\n",
       "      <td>GRAVID</td>\n",
       "      <td>2019-09-26 00:09:00</td>\n",
       "      <td>2</td>\n",
       "      <td>negative</td>\n",
       "      <td>CULEX RESTUANS</td>\n",
       "      <td>41.987245</td>\n",
       "      <td>-87.689417</td>\n",
       "    </tr>\n",
       "    <tr>\n",
       "      <th>3</th>\n",
       "      <td>2019</td>\n",
       "      <td>39</td>\n",
       "      <td>39XX N SPRINGFIELD AVE</td>\n",
       "      <td>T228</td>\n",
       "      <td>GRAVID</td>\n",
       "      <td>2019-09-26 00:09:00</td>\n",
       "      <td>1</td>\n",
       "      <td>negative</td>\n",
       "      <td>CULEX RESTUANS</td>\n",
       "      <td>41.953664</td>\n",
       "      <td>-87.724987</td>\n",
       "    </tr>\n",
       "    <tr>\n",
       "      <th>4</th>\n",
       "      <td>2019</td>\n",
       "      <td>39</td>\n",
       "      <td>131XX S BRANDON AVE</td>\n",
       "      <td>T209</td>\n",
       "      <td>GRAVID</td>\n",
       "      <td>2019-09-26 00:09:00</td>\n",
       "      <td>9</td>\n",
       "      <td>negative</td>\n",
       "      <td>CULEX RESTUANS</td>\n",
       "      <td>41.657069</td>\n",
       "      <td>-87.546049</td>\n",
       "    </tr>\n",
       "  </tbody>\n",
       "</table>\n",
       "</div>"
      ],
      "text/plain": [
       "   Year  Week           Address Block  Trap Trap type                Date  \\\n",
       "0  2019    39   100XX W OHARE AIRPORT  T910    GRAVID 2019-09-26 00:09:00   \n",
       "1  2019    39       52XX S KOLMAR AVE  T114    GRAVID 2019-09-26 00:09:00   \n",
       "2  2019    39      58XX N WESTERN AVE  T028    GRAVID 2019-09-26 00:09:00   \n",
       "3  2019    39  39XX N SPRINGFIELD AVE  T228    GRAVID 2019-09-26 00:09:00   \n",
       "4  2019    39     131XX S BRANDON AVE  T209    GRAVID 2019-09-26 00:09:00   \n",
       "\n",
       "   Mosquito number WNV Present         Species        Lat        Lon  \n",
       "0                2    negative  CULEX RESTUANS  41.996200 -87.926110  \n",
       "1                1    negative  CULEX RESTUANS  41.798211 -87.736925  \n",
       "2                2    negative  CULEX RESTUANS  41.987245 -87.689417  \n",
       "3                1    negative  CULEX RESTUANS  41.953664 -87.724987  \n",
       "4                9    negative  CULEX RESTUANS  41.657069 -87.546049  "
      ]
     },
     "execution_count": 40,
     "metadata": {},
     "output_type": "execute_result"
    }
   ],
   "source": [
    "df_mosquito.head()"
   ]
  },
  {
   "cell_type": "raw",
   "id": "b7c52dd9-a5e1-4715-a8db-fd4b103f251f",
   "metadata": {},
   "source": [
    "Here is another sense check to confirm that the row-values in the 'Lat' and 'Lon' columns have filled in correctly. "
   ]
  },
  {
   "cell_type": "markdown",
   "id": "a11da377-ef52-4954-adf4-b34b70401138",
   "metadata": {},
   "source": [
    "__________________________________________________________________________________________________________________________________________"
   ]
  },
  {
   "cell_type": "markdown",
   "id": "48468924-4620-4468-a40d-db12965b03ed",
   "metadata": {},
   "source": [
    "  \n",
    "## Part 2 - Basic EDA  <a class=\"anchor\" id=\"part-2\"></a>\r\n"
   ]
  },
  {
   "cell_type": "markdown",
   "id": "864a7da1-f550-4f39-8492-9db0ad193884",
   "metadata": {},
   "source": [
    "### 1. Using an appropriate visual, or visuals, explore the relationship between mosquito number and date."
   ]
  },
  {
   "cell_type": "code",
   "execution_count": 41,
   "id": "d7151c96-55ec-4574-9ac0-f9319b9f096d",
   "metadata": {},
   "outputs": [
    {
     "name": "stdout",
     "output_type": "stream",
     "text": [
      "Number of unique dates: 298\n"
     ]
    }
   ],
   "source": [
    "#Count of unique dates in the Date column.\n",
    "unique_dates_count = df_mosquito[\"Date\"].nunique()\n",
    "print(\"Number of unique dates:\", unique_dates_count)"
   ]
  },
  {
   "cell_type": "markdown",
   "id": "c58b3e80-65b5-464e-91c8-3720e4c945db",
   "metadata": {},
   "source": [
    "Note that the Date column is being used in a categorical context when exploring the Date column's relationship with the Mosquito Number column. <br>\n",
    "298 unique dates would be difficult to visualize, so we will group this column by the year portion of the date in our visual. "
   ]
  },
  {
   "cell_type": "code",
   "execution_count": 42,
   "id": "630dd89d-8414-4dec-b2b6-4f8f43d22a13",
   "metadata": {},
   "outputs": [
    {
     "data": {
      "text/plain": [
       "count    18495.000000\n",
       "mean        10.879913\n",
       "std         13.475066\n",
       "min          1.000000\n",
       "25%          2.000000\n",
       "50%          5.000000\n",
       "75%         14.000000\n",
       "max         50.000000\n",
       "Name: Mosquito number, dtype: float64"
      ]
     },
     "execution_count": 42,
     "metadata": {},
     "output_type": "execute_result"
    }
   ],
   "source": [
    "#High level summary of the distribution of Mosquito number. \n",
    "df_mosquito[\"Mosquito number\"].describe()"
   ]
  },
  {
   "cell_type": "markdown",
   "id": "f24545fc-901d-4bce-81cd-43d1dd38f0e1",
   "metadata": {},
   "source": [
    "Mosquito number is a numerical column. The range of 1-50 is manageable in a visualization. However, this is just the description of <br>\n",
    "the distribution of mosquitos found in each trap, with an artificial cap of 50 mosquitos per trap. This will make it difficult to see <br>\n",
    "the relationship between 'Mosquito number' and 'Date.' Thus, we will look at the count of total mosquitos to better analyze the distribution <br>\n",
    "of mosquitos over time. \n",
    "\n",
    "So we will use plots that are compatible with both column data types, to explore their relationship. <br>\n",
    "In this case, we will use a bar plot. "
   ]
  },
  {
   "cell_type": "code",
   "execution_count": 43,
   "id": "9b2170d3-07c7-4739-bbf1-4fdc8e70e95e",
   "metadata": {},
   "outputs": [
    {
     "data": {
      "image/png": "[encoded data removed]",
      "text/plain": [
       "<Figure size 640x480 with 1 Axes>"
      ]
     },
     "metadata": {},
     "output_type": "display_data"
    }
   ],
   "source": [
    "# Group the data by year and calculate the sum of Mosquito numbers\n",
    "df_grouped = df_mosquito.groupby(df_mosquito['Date'].dt.year)['Mosquito number'].sum().reset_index()\n",
    "\n",
    "# Create a horizontal bar plot\n",
    "sns.barplot(x='Date', y='Mosquito number', data=df_grouped, color='darkorange')\n",
    "\n",
    "# Set the title, x-axis label, and y-axis label\n",
    "plt.title('Relationship Between Date and Sum of Mosquito number (Grouped by Year)')\n",
    "plt.xlabel('Year')\n",
    "plt.ylabel('Sum of Mosquito number')\n",
    "\n",
    "# Makes sure there is no overlap in plots\n",
    "plt.tight_layout()\n",
    "\n",
    "plt.show()"
   ]
  },
  {
   "cell_type": "markdown",
   "id": "4772a0e2-078f-4aa1-9842-649ce660fa02",
   "metadata": {},
   "source": [
    "Here we the total number of mosquitos that were captured for this study, but grouped by year. We see that the <br>\n",
    "years 2007, 2013, 2014  and 2016 saw the most mosquitos trapped across the span of 2007 - 2019. At minimum we <br>\n",
    "see these 4 years be anywhere from double to five times more than the other years in the range. It is unclear <br>\n",
    "what the cause for these large gaps in the amount of mosquitos trapped year over year. However, it could be <br>\n",
    "be related to a number climate conditions and/or certain methods in the capturing of date for this study. "
   ]
  },
  {
   "cell_type": "markdown",
   "id": "a7d50dce-2846-425b-bc4e-7d64f473ef5a",
   "metadata": {},
   "source": [
    "__________________________________________________________________________________________________________________________________________"
   ]
  },
  {
   "cell_type": "markdown",
   "id": "76bfd35a-0d2c-4b9d-88e4-8ad0fb2a7eb3",
   "metadata": {},
   "source": [
    "\n",
    "## Part 3 - Advanced EDA <a class=\"anchor\" id=\"part-3\"></a>\r\n"
   ]
  },
  {
   "cell_type": "markdown",
   "id": "c48822e6-d145-4a40-8a6f-d225df4091ce",
   "metadata": {},
   "source": [
    "### 1. Using an appropriate visual, explore the relationship between mosquito species and WNV prevalence."
   ]
  },
  {
   "cell_type": "code",
   "execution_count": 44,
   "id": "39c5ef8c-9486-4cb7-bbb9-b92454c5230b",
   "metadata": {},
   "outputs": [
    {
     "data": {
      "text/plain": [
       "WNV Present\n",
       "negative    115927\n",
       "positive     85297\n",
       "Name: Mosquito number, dtype: int64"
      ]
     },
     "execution_count": 44,
     "metadata": {},
     "output_type": "execute_result"
    }
   ],
   "source": [
    "# Group by 'WNV Present' and calculate the sum of 'Mosquito number'\n",
    "df_mosquito.groupby('WNV Present')['Mosquito number'].sum()"
   ]
  },
  {
   "cell_type": "markdown",
   "id": "483cf430-4071-492d-a33f-ea295917d3a3",
   "metadata": {},
   "source": [
    "Here we see the count of mosquitos that test positive for WNV vs negative. Based on theses sums, 73.57820007% test positive for WNV.  "
   ]
  },
  {
   "cell_type": "code",
   "execution_count": 45,
   "id": "9cacbbae-0e76-444a-872e-0bd97a16fda4",
   "metadata": {},
   "outputs": [
    {
     "data": {
      "text/plain": [
       "Species           WNV Present\n",
       "CULEX PIPIENS     negative       30156\n",
       "                  positive       31208\n",
       "CULEX RESTUANS    negative       83562\n",
       "                  positive       54024\n",
       "CULEX SALINARIUS  negative         433\n",
       "                  positive          31\n",
       "CULEX TERRITANS   negative        1776\n",
       "                  positive          34\n",
       "Name: Mosquito number, dtype: int64"
      ]
     },
     "execution_count": 45,
     "metadata": {},
     "output_type": "execute_result"
    }
   ],
   "source": [
    "# Group by 'Species' and 'WNV Present', then calculate the sum of 'Mosquito number'\n",
    "df_mosquito.groupby(['Species', 'WNV Present'])['Mosquito number'].sum()"
   ]
  },
  {
   "cell_type": "markdown",
   "id": "9cb13eed-bd20-44bf-85de-436558e19cda",
   "metadata": {},
   "source": [
    "Here we see the distribution of WNV presence, but broken down by Species. Let's look at these values expressed as a percentages. "
   ]
  },
  {
   "cell_type": "code",
   "execution_count": 46,
   "id": "38455635-d050-4b96-83fc-30723f59e4d1",
   "metadata": {},
   "outputs": [
    {
     "name": "stdout",
     "output_type": "stream",
     "text": [
      "Species           WNV Present\n",
      "CULEX PIPIENS     negative       14.986284\n",
      "                  positive       15.509084\n",
      "CULEX RESTUANS    negative       41.526856\n",
      "                  positive       26.847692\n",
      "CULEX SALINARIUS  negative        0.215183\n",
      "                  positive        0.015406\n",
      "CULEX TERRITANS   negative        0.882598\n",
      "                  positive        0.016897\n",
      "Name: Mosquito number, dtype: float64\n"
     ]
    }
   ],
   "source": [
    "# Calculate the sum of 'Mosquito number' grouped by 'Species' and 'WNV Present'\n",
    "grouped_sum = df_mosquito.groupby(['Species', 'WNV Present'])['Mosquito number'].sum()\n",
    "\n",
    "# Calculate the total sum of 'Mosquito number' across all groups\n",
    "total_sum = grouped_sum.sum()\n",
    "\n",
    "# Calculate the percentage of each sum\n",
    "percentages = (grouped_sum / total_sum) * 100\n",
    "\n",
    "print(percentages)"
   ]
  },
  {
   "cell_type": "markdown",
   "id": "b51f3c53-01bc-4278-aa3f-19257bf2d9fd",
   "metadata": {},
   "source": [
    "Here we see the distribution of WNV presence, broken down by Species expressed as a percentages. \n",
    "\n",
    "Next we will visualize these values to better interpret their relationships. "
   ]
  },
  {
   "cell_type": "code",
   "execution_count": 47,
   "id": "dd7e5ae0-b057-4e4c-8749-9eb28ce486f9",
   "metadata": {},
   "outputs": [
    {
     "data": {
      "image/png": "[encoded data removed]",
      "text/plain": [
       "<Figure size 1000x600 with 1 Axes>"
      ]
     },
     "metadata": {},
     "output_type": "display_data"
    }
   ],
   "source": [
    "# Calculate the sum of 'Mosquito number' grouped by 'Species' and 'WNV Present'\n",
    "grouped_sum = df_mosquito.groupby(['Species', 'WNV Present'])['Mosquito number'].sum()\n",
    "\n",
    "# Calculate the total sum of 'Mosquito number' across all groups\n",
    "total_sum = grouped_sum.sum()\n",
    "\n",
    "# Calculate the percentage of each sum\n",
    "percentages = (grouped_sum / total_sum) * 100\n",
    "\n",
    "# Unstack the percentages for plotting\n",
    "stacked_data = percentages.unstack()\n",
    "\n",
    "# Plotting the stacked bar chart\n",
    "ax = stacked_data.plot(kind='bar', stacked=True, figsize=(10, 6))\n",
    "\n",
    "# Adding labels and title\n",
    "plt.title('Percentage of WNV Positive and Negative by Species')\n",
    "plt.xlabel('Species')\n",
    "plt.ylabel('Percentage')\n",
    "plt.legend(title='WNV Present', loc='upper right')\n",
    "\n",
    "# Adding annotations with dynamic spacing\n",
    "for idx, p in enumerate(ax.patches):\n",
    "    if p.get_height() > 0:\n",
    "        height = p.get_height()\n",
    "        ax.annotate(f\"{height:.2f}%\", (p.get_x() + p.get_width() / 2., height),\n",
    "                    ha='center', va='center', xytext=(0, -50 + idx * 27), textcoords='offset points')\n",
    "\n",
    "plt.show()"
   ]
  },
  {
   "cell_type": "markdown",
   "id": "ff250ed1-55bd-4f0c-b60e-a50cfb317405",
   "metadata": {},
   "source": [
    "Note: The comnbined positive and negative WNV Presence in both Species CULEX SALINARIUS and CULEX TERRITANS, each equal less <br>\n",
    "than one percent of the test mosquitos, so their bars will be to low to fit the percent annotations. However, the percent values will <br>\n",
    "remain present in the chart and above mirror those of the other two species, in that the top percent value represent the amount of <br>\n",
    "WVN positive mosquito and the bottom percent value represents the amount of WNV negative mosquitos. \n",
    "\n",
    "At first glance, it is easy to conclude we can see that CULEX PIPIENS made up about 30% of the species tests, CULEX RESTUANS made up <br>\n",
    "about 68.5% of the species test, while CULEX SALINARIUS made up less than 1% and CULEX TERRITANS just over 1% of the species tested. \n",
    "\n",
    "Of the species that tested WNV positive, CULEX RESTUANS made up 26.85% of the postive test, CULEX PIPIENS made up 15.51%, CULEX <br>\n",
    "SALINARIUS and CULEX TERRITANS each made up 0.02%.\n",
    "\n",
    "However, the this visualization is may be misleading in that it only shows a reliable relationship for WNV testing in CULEX PIPIENS <br>\n",
    "and CULEX RESTUANS because they made up the majority of the tested population of mosquitos, comprising about 98.5% of the mosquitos <br>\n",
    "tested. This means there is a strong possibility that the representation of the relationship between WNV presence in species CULEX <br>\n",
    "SALINARIUS and CULEX TERRITANS is unreliable, due to the significantly disproportionate small amount of  mosquitos tested for WNV <br>\n",
    "presence.\n",
    "\n",
    "Nevertheless, in CULEX PIPIENS we a nearly 50/50 split in WNV positve vs negative presence and CULEX RESTUANS appears to have a about <br>\n",
    "a 1-in-3 chance of a mosquito testing positive for WNV. "
   ]
  },
  {
   "cell_type": "markdown",
   "id": "cd85bbe9-3e77-4169-978a-78ca8f729ad2",
   "metadata": {},
   "source": [
    "### 2. Using an appropriate visual, explore the relationship between the number of mosquitos caught and trap type."
   ]
  },
  {
   "cell_type": "code",
   "execution_count": 48,
   "id": "92738422-213d-49f0-8410-faa534f67d15",
   "metadata": {},
   "outputs": [
    {
     "data": {
      "text/plain": [
       "Trap type\n",
       "CDC          28\n",
       "GRAVID      165\n",
       "OVI           1\n",
       "SENTINEL     12\n",
       "Name: Trap, dtype: int64"
      ]
     },
     "execution_count": 48,
     "metadata": {},
     "output_type": "execute_result"
    }
   ],
   "source": [
    "# Group by 'Trap type' and count the number of unique values in the 'Trap' column\n",
    "df_mosquito.groupby('Trap type')['Trap'].nunique()"
   ]
  },
  {
   "cell_type": "markdown",
   "id": "1f62f704-1d12-4af4-9d4c-fa3f16afac87",
   "metadata": {},
   "source": [
    "Here we see the distribution of Trap types used in this study. The distribution Trap types is significantly disproportionate, <br>\n",
    "which will likely influnce our data and the interpretation of the relationship between mosquitos caught and Trap type. the <br>\n",
    "GRAVID trap is the most prevenlant and may capture the most mostqutos based on just having a large number of traps. OVI is likely <br>\n",
    "to significant underperform in captures as there is only one trap of this type in use. CDC traps are more than double the <br>\n",
    "SENTINEL traps, but since they are the closest in number unlike OVI and GRAVID, we should expect to see CDC and SENTINEL traps to <br>\n",
    "capture mosquiates in amounts close, if not equal to the disproportion between the maount of CDC and SENTINAL trap used. "
   ]
  },
  {
   "cell_type": "code",
   "execution_count": 49,
   "id": "b1e17df3-1bf3-451e-89e9-851f1453ee7b",
   "metadata": {},
   "outputs": [
    {
     "data": {
      "text/plain": [
       "Trap type\n",
       "CDC           9883\n",
       "GRAVID      186206\n",
       "OVI              1\n",
       "SENTINEL      5134\n",
       "Name: Mosquito number, dtype: int64"
      ]
     },
     "execution_count": 49,
     "metadata": {},
     "output_type": "execute_result"
    }
   ],
   "source": [
    "# Group the data by 'Trap type' and sum the 'Mosquito number' in each group\n",
    "df_mosquito.groupby('Trap type')['Mosquito number'].sum()"
   ]
  },
  {
   "cell_type": "markdown",
   "id": "66ee5246-e792-44e4-b7ec-25647e60700f",
   "metadata": {},
   "source": [
    "Here we see the distribution of mosquitos based on the Trap type they were captured in. As expected the count of captures <br>\n",
    "is dispreportionate and the proportions are mirror the Trap type accourding to the amount of traps used. \n",
    "\n",
    "Let us visualize this and discuss this further, below. Because GRAVID traps captured a significantly higher amount of <br>\n",
    "mosquito and the OVI trap a significantly smaller amount of mosquitos when compared to other traps, any plots with a <br>\n",
    "mosquito sum on the y-axis will become very sparce and difficult to analzyse for relatnships/trends. Thus, we will need <br>\n",
    "to look at the distribution of 'Mosquito Number' across Trap types. "
   ]
  },
  {
   "cell_type": "code",
   "execution_count": 50,
   "id": "ec9f3b21-0fae-454b-819a-a4904e981868",
   "metadata": {
    "scrolled": true
   },
   "outputs": [
    {
     "data": {
      "text/plain": [
       "<Axes: xlabel='Trap type', ylabel='Mosquito number'>"
      ]
     },
     "execution_count": 50,
     "metadata": {},
     "output_type": "execute_result"
    },
    {
     "data": {
      "image/png": "[encoded data removed]",
      "text/plain": [
       "<Figure size 640x480 with 1 Axes>"
      ]
     },
     "metadata": {},
     "output_type": "display_data"
    }
   ],
   "source": [
    "# Group the data by 'Trap type' and sum the 'Mosquito number' in each group\n",
    "sns.boxplot(x='Trap type', y='Mosquito number', data=df_mosquito)"
   ]
  },
  {
   "cell_type": "markdown",
   "id": "36157b90-3e67-4ef0-aee9-dde45a06f324",
   "metadata": {},
   "source": [
    "Based on the box plot above, OVI's visual is as expected as there was only one trap, so we would only see line for that trap type. \n",
    "\n",
    "Interestingly, both the SENTINEL and CDC traps have the same wide distribution of their interquartile range, but SENTINALS range is <br>\n",
    "between Mosquito number 8 and 45, while CDC traps range is lower set, between Mosquito number 3 and 38. Moreover, their medians are <br>\n",
    "in the lower part of the interquartile range, but SENTINELS median is more than double the median of CDC. This median behavior may be <br>\n",
    "influenced by the fact that there are almost double the amount of SENTINEL than CDC traps. \n",
    "\n",
    "GRAVID traps, being the most abundant trap, does not have an abnormal interquartile range, which is signifanctly lower than SENTINEL <br>\n",
    "AND CDC. It is also the only trap to show outliers in the plot above. Moreover, these outliers are fairly consistent between Mosquito <br>\n",
    "number 32 and 50. This distribution in Mosquito number over GRAVID traps, is directly influenced by the artificial cap placed on this <br>\n",
    "trap type, where when ever this trap exceeded 50 mosquitos, the record was capped at 50 and the difference was put into another row in<br>\n",
    "the dataset. This capping may have resulted in an increase of Mosquito row-values that we see pulling down the interquartile range of <br>\n",
    "GRAVID traps. Pulling down the interquartile range can skew the data for this trap such that false-positive outliers will be plotted on <br>\n",
    "the graph, like we see with the GRAVID trap. This capping may have also affected to SENTINAL AND CDC traps, but it is not as obvious in <br>\n",
    "this plot. \n",
    "\n",
    "All in all if we are to get a better understanding of the relationship between Mosquito number and Trap type, we would need to test <br>\n",
    "across \n",
    "a more even distrbution of Trap types. "
   ]
  },
  {
   "cell_type": "markdown",
   "id": "6fbdc7ca-f07d-48a4-b9c7-0cb679aa72f1",
   "metadata": {},
   "source": [
    "### 3.  Using an appropriate visual, come up with an additional insight of your choice.\n"
   ]
  },
  {
   "cell_type": "markdown",
   "id": "3ca17f60-76eb-45a2-b56f-625ec1299731",
   "metadata": {},
   "source": [
    "Before we visualize the relationship between 'Trap type' and 'Species', let's look at it numerically, as we are now aware that the 'Trap type' distrubution could <br> \n",
    "have an impact on what we see. "
   ]
  },
  {
   "cell_type": "code",
   "execution_count": 51,
   "id": "2ae75410-53f8-48c1-9e3b-d8368fec7817",
   "metadata": {},
   "outputs": [
    {
     "data": {
      "text/html": [
       "<div>\n",
       "<style scoped>\n",
       "    .dataframe tbody tr th:only-of-type {\n",
       "        vertical-align: middle;\n",
       "    }\n",
       "\n",
       "    .dataframe tbody tr th {\n",
       "        vertical-align: top;\n",
       "    }\n",
       "\n",
       "    .dataframe thead th {\n",
       "        text-align: right;\n",
       "    }\n",
       "</style>\n",
       "<table border=\"1\" class=\"dataframe\">\n",
       "  <thead>\n",
       "    <tr style=\"text-align: right;\">\n",
       "      <th>Species</th>\n",
       "      <th>CULEX PIPIENS</th>\n",
       "      <th>CULEX RESTUANS</th>\n",
       "      <th>CULEX SALINARIUS</th>\n",
       "      <th>CULEX TERRITANS</th>\n",
       "    </tr>\n",
       "    <tr>\n",
       "      <th>Trap type</th>\n",
       "      <th></th>\n",
       "      <th></th>\n",
       "      <th></th>\n",
       "      <th></th>\n",
       "    </tr>\n",
       "  </thead>\n",
       "  <tbody>\n",
       "    <tr>\n",
       "      <th>CDC</th>\n",
       "      <td>8988.0</td>\n",
       "      <td>829.0</td>\n",
       "      <td>41.0</td>\n",
       "      <td>25.0</td>\n",
       "    </tr>\n",
       "    <tr>\n",
       "      <th>GRAVID</th>\n",
       "      <td>52120.0</td>\n",
       "      <td>131929.0</td>\n",
       "      <td>375.0</td>\n",
       "      <td>1782.0</td>\n",
       "    </tr>\n",
       "    <tr>\n",
       "      <th>OVI</th>\n",
       "      <td>1.0</td>\n",
       "      <td>NaN</td>\n",
       "      <td>NaN</td>\n",
       "      <td>NaN</td>\n",
       "    </tr>\n",
       "    <tr>\n",
       "      <th>SENTINEL</th>\n",
       "      <td>255.0</td>\n",
       "      <td>4828.0</td>\n",
       "      <td>48.0</td>\n",
       "      <td>3.0</td>\n",
       "    </tr>\n",
       "  </tbody>\n",
       "</table>\n",
       "</div>"
      ],
      "text/plain": [
       "Species    CULEX PIPIENS  CULEX RESTUANS  CULEX SALINARIUS  CULEX TERRITANS\n",
       "Trap type                                                                  \n",
       "CDC               8988.0           829.0              41.0             25.0\n",
       "GRAVID           52120.0        131929.0             375.0           1782.0\n",
       "OVI                  1.0             NaN               NaN              NaN\n",
       "SENTINEL           255.0          4828.0              48.0              3.0"
      ]
     },
     "execution_count": 51,
     "metadata": {},
     "output_type": "execute_result"
    }
   ],
   "source": [
    "# Group the data by 'Trap type' and 'Species', then calculate the sum of 'Mosquito number' in each group\n",
    "df_mosquito.groupby(['Trap type', 'Species'])['Mosquito number'].sum().unstack()"
   ]
  },
  {
   "cell_type": "markdown",
   "id": "8cd6ae69-858d-4174-acdf-2e1410d1037f",
   "metadata": {},
   "source": [
    "The first thing we will notice here is that there are null values for the OVI trap accross the CULEX RESTUANS, CULEX SALINARIUS and CULEX TERRITANS Species. <br>\n",
    "This is because the OVI trap only captured one mosquito, which is of the CULEX PIPIENS species. Since there was only one OVI trap used, this is not surprising. <br>\n",
    "Again we see that GRAVID traps have captured disproportionate amount of mosquitos when compared to other Trap types. However, we now see that the majority of the <br>\n",
    "mosquitos captured are between the CULEX PIPIENS and CULEX RESTUANS Species. \n",
    "\n",
    "Let's visualize this. "
   ]
  },
  {
   "cell_type": "code",
   "execution_count": 52,
   "id": "b5f31763-7b7d-4624-817b-468dee38e3ad",
   "metadata": {},
   "outputs": [
    {
     "data": {
      "image/png": "[encoded data removed]",
      "text/plain": [
       "<Figure size 1000x600 with 2 Axes>"
      ]
     },
     "metadata": {},
     "output_type": "display_data"
    }
   ],
   "source": [
    "from matplotlib.colors import LinearSegmentedColormap, ListedColormap\n",
    "\n",
    "# Group the data by 'Trap type' and 'Species', then calculate the sum of 'Mosquito number' in each group\n",
    "grouped_data = df_mosquito.groupby(['Trap type', 'Species'])['Mosquito number'].sum().unstack()\n",
    "\n",
    "# Create a custom colormap that transitions from red to black to blue\n",
    "colors = [(0, 0, 1), (0, 0, 0), (1, 0, 0)]  # Blue, Black, Red\n",
    "custom_cmap = LinearSegmentedColormap.from_list('CustomMap', colors)\n",
    "\n",
    "# Plotting the heatmap with custom colormap\n",
    "plt.figure(figsize=(10, 6))\n",
    "sns.heatmap(grouped_data, cmap=custom_cmap)  # Custom colormap\n",
    "           \n",
    "# Adding labels and title\n",
    "plt.title('Heatmap of Mosquitoes Caught by Trap Type and Species')\n",
    "plt.xlabel('Species')\n",
    "plt.ylabel('Trap Type')\n",
    "\n",
    "plt.show()"
   ]
  },
  {
   "cell_type": "markdown",
   "id": "edd240a8-0daf-4749-9d80-04d021c83acd",
   "metadata": {},
   "source": [
    "Note: The white spaces in the heatmap is due to the OVI trap only capturing one species. \n",
    "\n",
    "This visualization is misleading to the extreme disparity between the amount of GRAVID traps versus the rest of the traps. <br>\n",
    "Becuase the count of CLUEX RESTUANS captured in GRAVID traps is so high, the differences in the amount of species across the <br>\n",
    "the three Trap types is essential flattened. This flattening is responisble for making the color step-count very small for the <br>\n",
    "majority of tiles in this heatmap. Just like we saw in the table, the Species CULEX PIPIENS and CULEX RESTUANS were caught the <br>\n",
    "most by the GRAVID trap as there tile colors are drastically different than any other tiles in the heatmap. Since, the GRAVID <br>\n",
    "trap is distorting the visualization of the distribution of Species captured by other Trap types, there is only one conclusion <br>\n",
    "we can drap from this heatmap. That conclusion is that the GRAVID trap has a high success rate of capturing the CULEX PIPIENS <br>\n",
    "and CULEX RESTUANS Speciies. \n"
   ]
  }
 ],
 "metadata": {
  "kernelspec": {
   "display_name": "Python 3 (ipykernel)",
   "language": "python",
   "name": "python3"
  },
  "language_info": {
   "codemirror_mode": {
    "name": "ipython",
    "version": 3
   },
   "file_extension": ".py",
   "mimetype": "text/x-python",
   "name": "python",
   "nbconvert_exporter": "python",
   "pygments_lexer": "ipython3",
   "version": "3.11.5"
  }
 },
 "nbformat": 4,
 "nbformat_minor": 5
}
